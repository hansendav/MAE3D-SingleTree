{
 "cells": [
  {
   "cell_type": "code",
   "execution_count": 11,
   "id": "1cf90c92",
   "metadata": {},
   "outputs": [],
   "source": [
    "import torch \n",
    "import torch.nn as nn\n",
    "from torch.utils.data import DataLoader\n",
    "import numpy as np "
   ]
  },
  {
   "cell_type": "code",
   "execution_count": 4,
   "id": "8998a8cf",
   "metadata": {},
   "outputs": [],
   "source": [
    "import sys \n",
    "sys.path.append(\"..\")\n",
    "\n",
    "from data_yours import FORAGE "
   ]
  },
  {
   "cell_type": "code",
   "execution_count": 25,
   "id": "1bb140cd",
   "metadata": {},
   "outputs": [],
   "source": [
    "ds1 = FORAGE(split='train', fraction=0.1)\n",
    "data_all1 = [ds1[i][-2] for i in range(len(ds1))]\n",
    "\n",
    "ds2 = FORAGE(split='train', fraction=0.1)\n",
    "data_all2 = [ds2[i][-2] for i in range(len(ds2))]\n",
    "\n",
    "ds3 = FORAGE(split='train', fraction=0.1)\n",
    "data_all3 = [ds3[i][-2] for i in range(len(ds3))]"
   ]
  },
  {
   "cell_type": "code",
   "execution_count": 29,
   "id": "f2ff3319",
   "metadata": {},
   "outputs": [],
   "source": [
    "assert data_all1 == data_all2, \"Data from two datasets should be the same\"\n",
    "assert data_all1 == data_all3, \"Data from three datasets should be the same\""
   ]
  },
  {
   "cell_type": "code",
   "execution_count": 17,
   "id": "b03297f0",
   "metadata": {},
   "outputs": [],
   "source": [
    "# get all data \n",
    "data_all = [ds[i][-2] for i in range(len(ds))]"
   ]
  },
  {
   "cell_type": "code",
   "execution_count": 20,
   "id": "e46e7037",
   "metadata": {},
   "outputs": [],
   "source": [
    "import pandas as pd \n",
    "df = pd.DataFrame(data_all, columns=['age'])"
   ]
  },
  {
   "cell_type": "code",
   "execution_count": 23,
   "id": "1f58c5e4",
   "metadata": {},
   "outputs": [
    {
     "data": {
      "text/plain": [
       "<Axes: xlabel='age'>"
      ]
     },
     "execution_count": 23,
     "metadata": {},
     "output_type": "execute_result"
    },
    {
     "data": {
      "image/png": "[encoded data removed]",
      "text/plain": [
       "<Figure size 640x480 with 1 Axes>"
      ]
     },
     "metadata": {},
     "output_type": "display_data"
    }
   ],
   "source": [
    "import seaborn as sns \n",
    "sns.boxplot(data=df, x='age')"
   ]
  },
  {
   "cell_type": "code",
   "execution_count": null,
   "id": "3bbbea08",
   "metadata": {},
   "outputs": [],
   "source": []
  }
 ],
 "metadata": {
  "kernelspec": {
   "display_name": "mae3d",
   "language": "python",
   "name": "python3"
  },
  "language_info": {
   "codemirror_mode": {
    "name": "ipython",
    "version": 3
   },
   "file_extension": ".py",
   "mimetype": "text/x-python",
   "name": "python",
   "nbconvert_exporter": "python",
   "pygments_lexer": "ipython3",
   "version": "3.10.10"
  }
 },
 "nbformat": 4,
 "nbformat_minor": 5
}
