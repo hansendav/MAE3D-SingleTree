{
 "cells": [
  {
   "cell_type": "code",
   "execution_count": 199,
   "id": "778f05ca",
   "metadata": {},
   "outputs": [],
   "source": [
    "import sys \n",
    "sys.path.append('../')\n",
    "\n",
    "from util_yours import get_kNN_patch_idxs\n",
    "from data_yours import ALS_50K\n",
    "import torch \n",
    "from torch.utils.data import DataLoader \n",
    "import torch.nn.functional as F\n",
    "\n",
    "import numpy as np \n",
    "from pathlib import Path\n",
    "\n",
    "from pointnet2_ops import pointnet2_utils\n",
    "\n",
    "import fpsample "
   ]
  },
  {
   "cell_type": "code",
   "execution_count": 218,
   "id": "bd86a44b",
   "metadata": {},
   "outputs": [],
   "source": [
    "# test dataset \n",
    "ds = ALS_50K() \n",
    "# example usage \n",
    "test_loader = DataLoader(ds, batch_size=32, shuffle=True, num_workers=0)\n"
   ]
  },
  {
   "cell_type": "code",
   "execution_count": 219,
   "id": "db217685",
   "metadata": {},
   "outputs": [],
   "source": [
    "batch = next(iter(test_loader))"
   ]
  },
  {
   "cell_type": "code",
   "execution_count": 220,
   "id": "a6801d0a",
   "metadata": {},
   "outputs": [],
   "source": [
    "batch = batch[0]"
   ]
  },
  {
   "cell_type": "code",
   "execution_count": 221,
   "id": "295e1764",
   "metadata": {},
   "outputs": [],
   "source": [
    "def quadrant_masking(batch, masking_ratio=0.2, patch_size=16): \n",
    "    B, N, C = batch.shape \n",
    "\n",
    "    num_patches = N // patch_size\n",
    "    num_masked_patches = int(num_patches * masking_ratio)\n",
    "    num_vis_patches = num_patches - num_masked_patches\n",
    "\n",
    "    vis_pos, mask_pos = [], []\n",
    "    vis_center_pos, mask_center_pos = [], []\n",
    "\n",
    "    for i in range(B): \n",
    "        pc = batch[i]\n",
    "        t_x = torch.median(pc[:,0])\n",
    "        t_y = torch.median(pc[:, 1])\n",
    "\n",
    "        # Split into quadrants\n",
    "        quads = [\n",
    "            pc[(pc[:, 0] > t_x) & (pc[:, 1] >= t_y)],  # upper right\n",
    "            pc[(pc[:, 0] <= t_x) & (pc[:, 1] >= t_y)], # upper left\n",
    "            pc[(pc[:, 0] > t_x) & (pc[:, 1] < t_y)],   # lower right\n",
    "            pc[(pc[:, 0] <= t_x) & (pc[:, 1] < t_y)]   # lower left\n",
    "        ]\n",
    "\n",
    "        # Always select exactly 2 quadrants as masked (1) and 2 as visible (0)\n",
    "        select_idx = np.zeros(4, dtype=int)\n",
    "        select_idx[:2] = 1\n",
    "        np.random.shuffle(select_idx)\n",
    "        masked_quads = [q for q, s in zip(quads, select_idx) if s == 1 and len(q) >= patch_size] # make sure there is at least 1 patch\n",
    "        visible_quads = [q for q, s in zip(quads, select_idx) if s == 0 and len(q) >= patch_size]\n",
    "\n",
    "        # Distribute patches as evenly as possibel\n",
    "        \n",
    "        patches_per_masked = [num_masked_patches // 2 + (1 if x < num_masked_patches % 2 else 0) for x in range(2)]\n",
    "        patches_per_visible = [num_vis_patches // 2 + (1 if x < num_vis_patches % 2 else 0) for x in range(2)] \n",
    "        \n",
    "        # get center points and patches masked\n",
    "        masked_centers = [] \n",
    "        masked_patches = []\n",
    "        for q, n_p in zip(masked_quads, patches_per_masked):\n",
    "            # center points\n",
    "            centers = pointnet2_utils.furthest_point_sample(q.unsqueeze(0), n_p).squeeze(0)\n",
    "            center_points = q[centers]\n",
    "            masked_centers.append(center_points)\n",
    "            # patches\n",
    "            patches_idx = get_kNN_patch_idxs(q, center_points, k=patch_size)\n",
    "            patches = [q[patches_idx[:, j]] for j in range(patches_idx.shape[1])]\n",
    "            masked_patches.extend(patches)  \n",
    "        # get center points and patches vis \n",
    "        vis_centers = [] \n",
    "        vis_patches = [] \n",
    "        for q, n_p in zip(visible_quads, patches_per_visible):\n",
    "            # center points\n",
    "            centers = pointnet2_utils.furthest_point_sample(q.unsqueeze(0), n_p).squeeze(0)\n",
    "            center_points = q[centers]\n",
    "            vis_centers.append(center_points)\n",
    "            # patches\n",
    "            patches_idx = get_kNN_patch_idxs(q, center_points, k=patch_size)\n",
    "            patches = [q[patches_idx[:, j]] for j in range(patches_idx.shape[1])]\n",
    "            vis_patches.extend(patches)\n",
    "        vis_pos.append(torch.stack(vis_patches, dim=0))\n",
    "        mask_pos.append(torch.stack(masked_patches, dim=0))\n",
    "        vis_center_pos.append(torch.cat(vis_centers, dim=0))\n",
    "        mask_center_pos.append(torch.cat(masked_centers, dim=0))\n",
    "    \n",
    "    vis_pos = torch.stack(vis_pos, dim=0)\n",
    "    mask_pos = torch.stack(mask_pos, dim=0)\n",
    "    vis_center_pos = torch.stack(vis_center_pos, dim=0)\n",
    "    mask_center_pos = torch.stack(mask_center_pos, dim=0)\n",
    "\n",
    "    idx_all = torch.rand(num_patches).argsort()\n",
    "    vis_patch_idx = idx_all[:num_vis_patches]\n",
    "    mask_patch_idx = idx_all[num_vis_patches:]\n",
    "    shuffle_idx = torch.cat((vis_patch_idx, mask_patch_idx), dim=0)\n",
    "\n",
    "    return mask_pos, vis_pos, mask_center_pos, vis_center_pos, mask_patch_idx, vis_patch_idx, shuffle_idx\n"
   ]
  },
  {
   "cell_type": "code",
   "execution_count": 222,
   "id": "24f8c4e1",
   "metadata": {},
   "outputs": [],
   "source": [
    "mask_pos, vis_pos, mask_center_pos, vis_center_pos, mask_patch_idx, vis_patch_idx, shuffle_idx = quadrant_masking(batch.cuda(), masking_ratio=0.2, patch_size=16)\n",
    "  "
   ]
  },
  {
   "cell_type": "code",
   "execution_count": 211,
   "id": "113c33c4",
   "metadata": {},
   "outputs": [],
   "source": [
    "from tqdm import tqdm"
   ]
  },
  {
   "cell_type": "code",
   "execution_count": 212,
   "id": "38d27791",
   "metadata": {},
   "outputs": [
    {
     "name": "stderr",
     "output_type": "stream",
     "text": [
      "  0%|          | 9/3012 [00:16<1:31:37,  1.83s/it]\n"
     ]
    },
    {
     "ename": "KeyboardInterrupt",
     "evalue": "",
     "output_type": "error",
     "traceback": [
      "\u001b[0;31m---------------------------------------------------------------------------\u001b[0m",
      "\u001b[0;31mKeyboardInterrupt\u001b[0m                         Traceback (most recent call last)",
      "Cell \u001b[0;32mIn[212], line 1\u001b[0m\n\u001b[0;32m----> 1\u001b[0m \u001b[38;5;28;01mfor\u001b[39;00m i, (batch, label) \u001b[38;5;129;01min\u001b[39;00m \u001b[38;5;28menumerate\u001b[39m(tqdm(test_loader)): \n\u001b[1;32m      2\u001b[0m     batch \u001b[38;5;241m=\u001b[39m batch\u001b[38;5;241m.\u001b[39mcuda() \n\u001b[1;32m      3\u001b[0m     mask_pos, vis_pos, mask_center_pos, vis_center_pos, mask_patch_idx, vis_patch_idx, shuffle_idx \u001b[38;5;241m=\u001b[39m quadrant_masking(batch, masking_ratio\u001b[38;5;241m=\u001b[39m\u001b[38;5;241m0.2\u001b[39m, patch_size\u001b[38;5;241m=\u001b[39m\u001b[38;5;241m16\u001b[39m) \n",
      "File \u001b[0;32m~/.conda/envs/mae3d/lib/python3.10/site-packages/tqdm/std.py:1181\u001b[0m, in \u001b[0;36mtqdm.__iter__\u001b[0;34m(self)\u001b[0m\n\u001b[1;32m   1178\u001b[0m time \u001b[38;5;241m=\u001b[39m \u001b[38;5;28mself\u001b[39m\u001b[38;5;241m.\u001b[39m_time\n\u001b[1;32m   1180\u001b[0m \u001b[38;5;28;01mtry\u001b[39;00m:\n\u001b[0;32m-> 1181\u001b[0m     \u001b[38;5;28;01mfor\u001b[39;00m obj \u001b[38;5;129;01min\u001b[39;00m iterable:\n\u001b[1;32m   1182\u001b[0m         \u001b[38;5;28;01myield\u001b[39;00m obj\n\u001b[1;32m   1183\u001b[0m         \u001b[38;5;66;03m# Update and possibly print the progressbar.\u001b[39;00m\n\u001b[1;32m   1184\u001b[0m         \u001b[38;5;66;03m# Note: does not call self.update(1) for speed optimisation.\u001b[39;00m\n",
      "File \u001b[0;32m~/.conda/envs/mae3d/lib/python3.10/site-packages/torch/utils/data/dataloader.py:701\u001b[0m, in \u001b[0;36m_BaseDataLoaderIter.__next__\u001b[0;34m(self)\u001b[0m\n\u001b[1;32m    698\u001b[0m \u001b[38;5;28;01mif\u001b[39;00m \u001b[38;5;28mself\u001b[39m\u001b[38;5;241m.\u001b[39m_sampler_iter \u001b[38;5;129;01mis\u001b[39;00m \u001b[38;5;28;01mNone\u001b[39;00m:\n\u001b[1;32m    699\u001b[0m     \u001b[38;5;66;03m# TODO(https://github.com/pytorch/pytorch/issues/76750)\u001b[39;00m\n\u001b[1;32m    700\u001b[0m     \u001b[38;5;28mself\u001b[39m\u001b[38;5;241m.\u001b[39m_reset()  \u001b[38;5;66;03m# type: ignore[call-arg]\u001b[39;00m\n\u001b[0;32m--> 701\u001b[0m data \u001b[38;5;241m=\u001b[39m \u001b[38;5;28;43mself\u001b[39;49m\u001b[38;5;241;43m.\u001b[39;49m\u001b[43m_next_data\u001b[49m\u001b[43m(\u001b[49m\u001b[43m)\u001b[49m\n\u001b[1;32m    702\u001b[0m \u001b[38;5;28mself\u001b[39m\u001b[38;5;241m.\u001b[39m_num_yielded \u001b[38;5;241m+\u001b[39m\u001b[38;5;241m=\u001b[39m \u001b[38;5;241m1\u001b[39m\n\u001b[1;32m    703\u001b[0m \u001b[38;5;28;01mif\u001b[39;00m (\n\u001b[1;32m    704\u001b[0m     \u001b[38;5;28mself\u001b[39m\u001b[38;5;241m.\u001b[39m_dataset_kind \u001b[38;5;241m==\u001b[39m _DatasetKind\u001b[38;5;241m.\u001b[39mIterable\n\u001b[1;32m    705\u001b[0m     \u001b[38;5;129;01mand\u001b[39;00m \u001b[38;5;28mself\u001b[39m\u001b[38;5;241m.\u001b[39m_IterableDataset_len_called \u001b[38;5;129;01mis\u001b[39;00m \u001b[38;5;129;01mnot\u001b[39;00m \u001b[38;5;28;01mNone\u001b[39;00m\n\u001b[1;32m    706\u001b[0m     \u001b[38;5;129;01mand\u001b[39;00m \u001b[38;5;28mself\u001b[39m\u001b[38;5;241m.\u001b[39m_num_yielded \u001b[38;5;241m>\u001b[39m \u001b[38;5;28mself\u001b[39m\u001b[38;5;241m.\u001b[39m_IterableDataset_len_called\n\u001b[1;32m    707\u001b[0m ):\n",
      "File \u001b[0;32m~/.conda/envs/mae3d/lib/python3.10/site-packages/torch/utils/data/dataloader.py:757\u001b[0m, in \u001b[0;36m_SingleProcessDataLoaderIter._next_data\u001b[0;34m(self)\u001b[0m\n\u001b[1;32m    755\u001b[0m \u001b[38;5;28;01mdef\u001b[39;00m\u001b[38;5;250m \u001b[39m\u001b[38;5;21m_next_data\u001b[39m(\u001b[38;5;28mself\u001b[39m):\n\u001b[1;32m    756\u001b[0m     index \u001b[38;5;241m=\u001b[39m \u001b[38;5;28mself\u001b[39m\u001b[38;5;241m.\u001b[39m_next_index()  \u001b[38;5;66;03m# may raise StopIteration\u001b[39;00m\n\u001b[0;32m--> 757\u001b[0m     data \u001b[38;5;241m=\u001b[39m \u001b[38;5;28;43mself\u001b[39;49m\u001b[38;5;241;43m.\u001b[39;49m\u001b[43m_dataset_fetcher\u001b[49m\u001b[38;5;241;43m.\u001b[39;49m\u001b[43mfetch\u001b[49m\u001b[43m(\u001b[49m\u001b[43mindex\u001b[49m\u001b[43m)\u001b[49m  \u001b[38;5;66;03m# may raise StopIteration\u001b[39;00m\n\u001b[1;32m    758\u001b[0m     \u001b[38;5;28;01mif\u001b[39;00m \u001b[38;5;28mself\u001b[39m\u001b[38;5;241m.\u001b[39m_pin_memory:\n\u001b[1;32m    759\u001b[0m         data \u001b[38;5;241m=\u001b[39m _utils\u001b[38;5;241m.\u001b[39mpin_memory\u001b[38;5;241m.\u001b[39mpin_memory(data, \u001b[38;5;28mself\u001b[39m\u001b[38;5;241m.\u001b[39m_pin_memory_device)\n",
      "File \u001b[0;32m~/.conda/envs/mae3d/lib/python3.10/site-packages/torch/utils/data/_utils/fetch.py:52\u001b[0m, in \u001b[0;36m_MapDatasetFetcher.fetch\u001b[0;34m(self, possibly_batched_index)\u001b[0m\n\u001b[1;32m     50\u001b[0m         data \u001b[38;5;241m=\u001b[39m \u001b[38;5;28mself\u001b[39m\u001b[38;5;241m.\u001b[39mdataset\u001b[38;5;241m.\u001b[39m__getitems__(possibly_batched_index)\n\u001b[1;32m     51\u001b[0m     \u001b[38;5;28;01melse\u001b[39;00m:\n\u001b[0;32m---> 52\u001b[0m         data \u001b[38;5;241m=\u001b[39m [\u001b[38;5;28mself\u001b[39m\u001b[38;5;241m.\u001b[39mdataset[idx] \u001b[38;5;28;01mfor\u001b[39;00m idx \u001b[38;5;129;01min\u001b[39;00m possibly_batched_index]\n\u001b[1;32m     53\u001b[0m \u001b[38;5;28;01melse\u001b[39;00m:\n\u001b[1;32m     54\u001b[0m     data \u001b[38;5;241m=\u001b[39m \u001b[38;5;28mself\u001b[39m\u001b[38;5;241m.\u001b[39mdataset[possibly_batched_index]\n",
      "File \u001b[0;32m~/.conda/envs/mae3d/lib/python3.10/site-packages/torch/utils/data/_utils/fetch.py:52\u001b[0m, in \u001b[0;36m<listcomp>\u001b[0;34m(.0)\u001b[0m\n\u001b[1;32m     50\u001b[0m         data \u001b[38;5;241m=\u001b[39m \u001b[38;5;28mself\u001b[39m\u001b[38;5;241m.\u001b[39mdataset\u001b[38;5;241m.\u001b[39m__getitems__(possibly_batched_index)\n\u001b[1;32m     51\u001b[0m     \u001b[38;5;28;01melse\u001b[39;00m:\n\u001b[0;32m---> 52\u001b[0m         data \u001b[38;5;241m=\u001b[39m [\u001b[38;5;28;43mself\u001b[39;49m\u001b[38;5;241;43m.\u001b[39;49m\u001b[43mdataset\u001b[49m\u001b[43m[\u001b[49m\u001b[43midx\u001b[49m\u001b[43m]\u001b[49m \u001b[38;5;28;01mfor\u001b[39;00m idx \u001b[38;5;129;01min\u001b[39;00m possibly_batched_index]\n\u001b[1;32m     53\u001b[0m \u001b[38;5;28;01melse\u001b[39;00m:\n\u001b[1;32m     54\u001b[0m     data \u001b[38;5;241m=\u001b[39m \u001b[38;5;28mself\u001b[39m\u001b[38;5;241m.\u001b[39mdataset[possibly_batched_index]\n",
      "File \u001b[0;32m/share/castor/home/e2405193/MAE3D-SingleTree/misc/../data_yours.py:307\u001b[0m, in \u001b[0;36mALS_50K.__getitem__\u001b[0;34m(self, idx)\u001b[0m\n\u001b[1;32m    305\u001b[0m \u001b[38;5;28;01mdef\u001b[39;00m\u001b[38;5;250m \u001b[39m\u001b[38;5;21m__getitem__\u001b[39m(\u001b[38;5;28mself\u001b[39m, idx): \n\u001b[1;32m    306\u001b[0m     \u001b[38;5;28;01mwith\u001b[39;00m h5py\u001b[38;5;241m.\u001b[39mFile(\u001b[38;5;28mself\u001b[39m\u001b[38;5;241m.\u001b[39mdata_file, \u001b[38;5;124m'\u001b[39m\u001b[38;5;124mr\u001b[39m\u001b[38;5;124m'\u001b[39m, swmr\u001b[38;5;241m=\u001b[39m\u001b[38;5;28;01mTrue\u001b[39;00m) \u001b[38;5;28;01mas\u001b[39;00m f: \n\u001b[0;32m--> 307\u001b[0m         instance_xyz \u001b[38;5;241m=\u001b[39m \u001b[43mf\u001b[49m\u001b[43m[\u001b[49m\u001b[38;5;124;43m'\u001b[39;49m\u001b[38;5;124;43mdata\u001b[39;49m\u001b[38;5;124;43m'\u001b[39;49m\u001b[43m]\u001b[49m\u001b[43m[\u001b[49m\u001b[38;5;124;43m'\u001b[39;49m\u001b[38;5;124;43minstance_xyz\u001b[39;49m\u001b[38;5;124;43m'\u001b[39;49m\u001b[43m]\u001b[49m\u001b[43m[\u001b[49m\u001b[43midx\u001b[49m\u001b[43m]\u001b[49m \n\u001b[1;32m    308\u001b[0m         instance_xyz \u001b[38;5;241m=\u001b[39m instance_xyz\u001b[38;5;241m.\u001b[39mreshape(\u001b[38;5;241m-\u001b[39m\u001b[38;5;241m1\u001b[39m, \u001b[38;5;241m3\u001b[39m) \u001b[38;5;66;03m# (N, 3) \u001b[39;00m\n\u001b[1;32m    310\u001b[0m         \u001b[38;5;66;03m# FPS supsampling to num_points\u001b[39;00m\n\u001b[1;32m    311\u001b[0m         \u001b[38;5;66;03m#if instance_xyz.shape[0] > self.num_points:\u001b[39;00m\n\u001b[1;32m    312\u001b[0m         \u001b[38;5;66;03m#    instance_idxs = fpsample.bucket_fps_kdline_sampling(instance_xyz, self.num_points, h=3)\u001b[39;00m\n\u001b[0;32m   (...)\u001b[0m\n\u001b[1;32m    333\u001b[0m             \u001b[38;5;66;03m# instance_xyz = translate_pointcloud(instance_xyz)\u001b[39;00m\n\u001b[1;32m    334\u001b[0m             \u001b[38;5;66;03m# instance_xyz = flip_pointcloud(instance_xyz)\u001b[39;00m\n",
      "File \u001b[0;32mh5py/_objects.pyx:54\u001b[0m, in \u001b[0;36mh5py._objects.with_phil.wrapper\u001b[0;34m()\u001b[0m\n",
      "File \u001b[0;32mh5py/_objects.pyx:55\u001b[0m, in \u001b[0;36mh5py._objects.with_phil.wrapper\u001b[0;34m()\u001b[0m\n",
      "File \u001b[0;32m~/.local/lib/python3.10/site-packages/h5py/_hl/dataset.py:802\u001b[0m, in \u001b[0;36mDataset.__getitem__\u001b[0;34m(self, args, new_dtype)\u001b[0m\n\u001b[1;32m    800\u001b[0m \u001b[38;5;28;01mif\u001b[39;00m \u001b[38;5;28mself\u001b[39m\u001b[38;5;241m.\u001b[39m_fast_read_ok \u001b[38;5;129;01mand\u001b[39;00m (new_dtype \u001b[38;5;129;01mis\u001b[39;00m \u001b[38;5;28;01mNone\u001b[39;00m):\n\u001b[1;32m    801\u001b[0m     \u001b[38;5;28;01mtry\u001b[39;00m:\n\u001b[0;32m--> 802\u001b[0m         \u001b[38;5;28;01mreturn\u001b[39;00m \u001b[38;5;28;43mself\u001b[39;49m\u001b[38;5;241;43m.\u001b[39;49m\u001b[43m_fast_reader\u001b[49m\u001b[38;5;241;43m.\u001b[39;49m\u001b[43mread\u001b[49m\u001b[43m(\u001b[49m\u001b[43margs\u001b[49m\u001b[43m)\u001b[49m\n\u001b[1;32m    803\u001b[0m     \u001b[38;5;28;01mexcept\u001b[39;00m \u001b[38;5;167;01mTypeError\u001b[39;00m:\n\u001b[1;32m    804\u001b[0m         \u001b[38;5;28;01mpass\u001b[39;00m  \u001b[38;5;66;03m# Fall back to Python read pathway below\u001b[39;00m\n",
      "\u001b[0;31mKeyboardInterrupt\u001b[0m: "
     ]
    }
   ],
   "source": [
    "for i, (batch, label) in enumerate(tqdm(test_loader)): \n",
    "    batch = batch.cuda() \n",
    "    mask_pos, vis_pos, mask_center_pos, vis_center_pos, mask_patch_idx, vis_patch_idx, shuffle_idx = quadrant_masking(batch, masking_ratio=0.2, patch_size=16) "
   ]
  },
  {
   "cell_type": "code",
   "execution_count": null,
   "id": "ee77e63e",
   "metadata": {},
   "outputs": [],
   "source": []
  }
 ],
 "metadata": {
  "kernelspec": {
   "display_name": "mae3d",
   "language": "python",
   "name": "python3"
  },
  "language_info": {
   "codemirror_mode": {
    "name": "ipython",
    "version": 3
   },
   "file_extension": ".py",
   "mimetype": "text/x-python",
   "name": "python",
   "nbconvert_exporter": "python",
   "pygments_lexer": "ipython3",
   "version": "3.10.10"
  }
 },
 "nbformat": 4,
 "nbformat_minor": 5
}
