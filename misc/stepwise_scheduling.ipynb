{
 "cells": [
  {
   "cell_type": "code",
   "execution_count": 1,
   "id": "6b72d26b",
   "metadata": {},
   "outputs": [],
   "source": [
    "import torch "
   ]
  },
  {
   "cell_type": "code",
   "execution_count": 24,
   "id": "fb9af83a",
   "metadata": {},
   "outputs": [],
   "source": [
    "class stepwise_scheduler():\n",
    "    def __init__(self, schedule, default_value=None): \n",
    "        self.schedule = schedule \n",
    "        self.default_value = default_value\n",
    "\n",
    "        self.schedule = sorted(schedule, key=lambda x: x[0])\n",
    "\n",
    "        if self.default_value is None: \n",
    "            self.default_value = self.schedule[-1][1] # first value as default \n",
    "\n",
    "    def __call__(self, epoch): \n",
    "        for i, (e, v) in enumerate(self.schedule): \n",
    "            if epoch < e:\n",
    "                return self.schedule[i - 1][1] \n",
    "            elif (epoch > e or epoch == e) and i == len(self.schedule) - 1:\n",
    "                return v"
   ]
  },
  {
   "cell_type": "code",
   "execution_count": 20,
   "id": "bdd0b4f6",
   "metadata": {},
   "outputs": [],
   "source": [
    "def stepwise_schedule(epoch, schedule, default):\n",
    "    if not schedule:\n",
    "        return default # return default value \n",
    "    \n",
    "    schedule = sorted(schedule, key=lambda x: x[0]) # sort by epoch\n",
    "    if default is None: \n",
    "        default = schedule[0][1] # E, Value \n",
    "\n",
    "    for i, (e, v) in enumerate(schedule): \n",
    "        if epoch < e:\n",
    "            return schedule[i - 1][1] \n",
    "        elif (epoch > e or epoch == e) and i == len(schedule) - 1:\n",
    "            return v"
   ]
  },
  {
   "cell_type": "code",
   "execution_count": 14,
   "id": "1185a50b",
   "metadata": {},
   "outputs": [],
   "source": [
    "schedule = [(0, 0.1), (10, 0.01), (20, 0.001)]"
   ]
  },
  {
   "cell_type": "code",
   "execution_count": 15,
   "id": "0041ff3e",
   "metadata": {},
   "outputs": [],
   "source": [
    "epoch = 5 "
   ]
  },
  {
   "cell_type": "code",
   "execution_count": 16,
   "id": "128f8b9b",
   "metadata": {},
   "outputs": [
    {
     "data": {
      "text/plain": [
       "0.1"
      ]
     },
     "execution_count": 16,
     "metadata": {},
     "output_type": "execute_result"
    }
   ],
   "source": [
    "stepwise_schedule(5, schedule, None)"
   ]
  },
  {
   "cell_type": "code",
   "execution_count": 21,
   "id": "fd7860a2",
   "metadata": {},
   "outputs": [
    {
     "name": "stdout",
     "output_type": "stream",
     "text": [
      "0.1\n",
      "0.1\n",
      "0.1\n",
      "0.1\n",
      "0.1\n",
      "0.1\n",
      "0.1\n",
      "0.1\n",
      "0.1\n",
      "0.1\n",
      "0.01\n",
      "0.01\n",
      "0.01\n",
      "0.01\n",
      "0.01\n",
      "0.01\n",
      "0.01\n",
      "0.01\n",
      "0.01\n",
      "0.01\n",
      "0.001\n",
      "0.001\n",
      "0.001\n",
      "0.001\n",
      "0.001\n",
      "0.001\n",
      "0.001\n",
      "0.001\n",
      "0.001\n",
      "0.001\n",
      "0.001\n",
      "0.001\n",
      "0.001\n",
      "0.001\n",
      "0.001\n",
      "0.001\n",
      "0.001\n",
      "0.001\n",
      "0.001\n",
      "0.001\n",
      "0.001\n",
      "0.001\n",
      "0.001\n",
      "0.001\n",
      "0.001\n",
      "0.001\n",
      "0.001\n",
      "0.001\n",
      "0.001\n",
      "0.001\n",
      "0.001\n",
      "0.001\n",
      "0.001\n",
      "0.001\n",
      "0.001\n",
      "0.001\n",
      "0.001\n",
      "0.001\n",
      "0.001\n",
      "0.001\n",
      "0.001\n",
      "0.001\n",
      "0.001\n",
      "0.001\n",
      "0.001\n",
      "0.001\n",
      "0.001\n",
      "0.001\n",
      "0.001\n",
      "0.001\n",
      "0.001\n",
      "0.001\n",
      "0.001\n",
      "0.001\n",
      "0.001\n",
      "0.001\n",
      "0.001\n",
      "0.001\n",
      "0.001\n",
      "0.001\n",
      "0.001\n",
      "0.001\n",
      "0.001\n",
      "0.001\n",
      "0.001\n",
      "0.001\n",
      "0.001\n",
      "0.001\n",
      "0.001\n",
      "0.001\n",
      "0.001\n",
      "0.001\n",
      "0.001\n",
      "0.001\n",
      "0.001\n",
      "0.001\n",
      "0.001\n",
      "0.001\n",
      "0.001\n",
      "0.001\n"
     ]
    }
   ],
   "source": [
    "for i in range(100):\n",
    "    epoch = i\n",
    "    print(stepwise_schedule(epoch, schedule, default=0.1))"
   ]
  },
  {
   "cell_type": "code",
   "execution_count": 25,
   "id": "59216373",
   "metadata": {},
   "outputs": [],
   "source": [
    "cutoff_schedule = [(0, 0.1), (10, 0.01), (20, 0.001)]\n",
    "\n",
    "cutoff_scheduler = stepwise_scheduler(cutoff_schedule, default_value=0.80)"
   ]
  },
  {
   "cell_type": "code",
   "execution_count": null,
   "id": "a74f03b6",
   "metadata": {},
   "outputs": [],
   "source": []
  }
 ],
 "metadata": {
  "kernelspec": {
   "display_name": "mae3d",
   "language": "python",
   "name": "python3"
  },
  "language_info": {
   "codemirror_mode": {
    "name": "ipython",
    "version": 3
   },
   "file_extension": ".py",
   "mimetype": "text/x-python",
   "name": "python",
   "nbconvert_exporter": "python",
   "pygments_lexer": "ipython3",
   "version": "3.10.10"
  }
 },
 "nbformat": 4,
 "nbformat_minor": 5
}
