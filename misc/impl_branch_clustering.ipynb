{
 "cells": [
  {
   "cell_type": "code",
   "execution_count": 1,
   "id": "79922468",
   "metadata": {},
   "outputs": [],
   "source": [
    "import numpy as np \n",
    "import torch \n",
    "import torch.nn as nn\n",
    "import torch.nn.functional as F\n",
    "\n",
    "from torch.utils.data import DataLoader \n",
    "import sys \n",
    "sys.path.append('../')\n",
    "\n",
    "from data_yours import ALS_50K"
   ]
  },
  {
   "cell_type": "code",
   "execution_count": 2,
   "id": "8afa2c20",
   "metadata": {},
   "outputs": [],
   "source": [
    "# get sample \n",
    "ds = ALS_50K(num_points=2048)\n",
    "sample = ds[25542]"
   ]
  },
  {
   "cell_type": "code",
   "execution_count": 3,
   "id": "fefda7bf",
   "metadata": {},
   "outputs": [
    {
     "data": {
      "text/plain": [
       "(2048, 3)"
      ]
     },
     "execution_count": 3,
     "metadata": {},
     "output_type": "execute_result"
    }
   ],
   "source": [
    "# get xyz \n",
    "sample = sample[0]\n",
    "sample.shape"
   ]
  },
  {
   "cell_type": "code",
   "execution_count": 4,
   "id": "c5de9b1d",
   "metadata": {},
   "outputs": [
    {
     "data": {
      "text/plain": [
       "device(type='cuda')"
      ]
     },
     "execution_count": 4,
     "metadata": {},
     "output_type": "execute_result"
    }
   ],
   "source": [
    "device = torch.device('cuda' if torch.cuda.is_available() else 'cpu')\n",
    "device"
   ]
  },
  {
   "cell_type": "code",
   "execution_count": 5,
   "id": "d7a53bab",
   "metadata": {},
   "outputs": [],
   "source": [
    "sample = torch.tensor(sample, dtype=torch.float32).to(device)  # add batch dimension"
   ]
  },
  {
   "cell_type": "markdown",
   "id": "303077ae",
   "metadata": {},
   "source": [
    "## For a single point cloud"
   ]
  },
  {
   "cell_type": "markdown",
   "id": "351bb654",
   "metadata": {},
   "source": [
    "## kNN Clustering function "
   ]
  },
  {
   "cell_type": "code",
   "execution_count": 6,
   "id": "bae46c7f",
   "metadata": {},
   "outputs": [],
   "source": [
    "from kmeans_pytorch import kmeans"
   ]
  },
  {
   "cell_type": "code",
   "execution_count": null,
   "id": "8d0369fd",
   "metadata": {},
   "outputs": [],
   "source": [
    "def get_tree_center_xy(pc): \n",
    "    return torch.mean(pc[:,:2], dim=0)\n",
    "get_tree_center_xy(sample)"
   ]
  },
  {
   "cell_type": "code",
   "execution_count": 36,
   "id": "99f9ae52",
   "metadata": {},
   "outputs": [
    {
     "name": "stdout",
     "output_type": "stream",
     "text": [
      "running k-means on cuda..\n"
     ]
    },
    {
     "name": "stderr",
     "output_type": "stream",
     "text": [
      "[running kmeans]: 11it [00:00, 57.28it/s, center_shift=0.000000, iteration=11, tol=0.000100]\n"
     ]
    },
    {
     "data": {
      "text/plain": [
       "(torch.Size([2048]), torch.Size([100, 3]))"
      ]
     },
     "execution_count": 36,
     "metadata": {},
     "output_type": "execute_result"
    }
   ],
   "source": [
    "def initialize_clusters(pc, device, k=100):\n",
    "    c_idx, c_centroids = kmeans(\n",
    "        X=pc,\n",
    "        num_clusters=k,\n",
    "        distance='euclidean',\n",
    "        device=device\n",
    "    )\n",
    "    return c_idx, c_centroids\n",
    "cl_idx, cl_centroids = initialize_clusters(sample, device, k=100)\n",
    "cl_idx.shape, cl_centroids.shape"
   ]
  },
  {
   "cell_type": "code",
   "execution_count": 37,
   "id": "efd8ff16",
   "metadata": {},
   "outputs": [
    {
     "data": {
      "text/plain": [
       "(100, torch.Size([16, 3]))"
      ]
     },
     "execution_count": 37,
     "metadata": {},
     "output_type": "execute_result"
    }
   ],
   "source": [
    "def get_clusters(pc, c_idx):\n",
    "    \"\"\"\n",
    "    Splits the point cloud (pc) into clusters according to c_idx.\n",
    "    Returns a list of tensors, one per cluster.\n",
    "    \"\"\"\n",
    "    return [pc[c_idx == i] for i in range(c_idx.max() + 1)]\n",
    "clusters = get_clusters(sample, cl_idx)\n",
    "len(clusters), clusters[0].shape"
   ]
  },
  {
   "cell_type": "code",
   "execution_count": 38,
   "id": "63028ac9",
   "metadata": {},
   "outputs": [
    {
     "data": {
      "text/plain": [
       "(tensor([ 0.0554,  0.1117, -0.2008], device='cuda:0'),\n",
       " tensor([-0.2600, -0.0675,  0.9633], device='cuda:0'),\n",
       " tensor([-0.5133, -0.8353, -0.1970], device='cuda:0'))"
      ]
     },
     "execution_count": 38,
     "metadata": {},
     "output_type": "execute_result"
    }
   ],
   "source": [
    "def compute_pca(points):\n",
    "    mean = points.mean(dim=0)\n",
    "    X = points - mean\n",
    "    eigvals, eigvecs = torch.linalg.eigh(torch.cov(X.T))\n",
    "    idx = torch.argsort(eigvals, descending=True)\n",
    "    eigvecs = eigvecs[:, idx]\n",
    "    direction = eigvecs[:, 0]  # 1st principal component\n",
    "    normal = eigvecs[:, 1]     # 2nd principal component\n",
    "    return mean, direction, normal\n",
    "compute_pca(clusters[0])"
   ]
  },
  {
   "cell_type": "code",
   "execution_count": 39,
   "id": "be1d83e8",
   "metadata": {},
   "outputs": [
    {
     "data": {
      "text/plain": [
       "tensor(0.5534, device='cuda:0')"
      ]
     },
     "execution_count": 39,
     "metadata": {},
     "output_type": "execute_result"
    }
   ],
   "source": [
    "def cluster_residuals(cluster):\n",
    "    centroid, direction, normal = compute_pca(cluster)\n",
    "    vec = cluster - centroid \n",
    "    normal = normal / torch.norm(normal) \n",
    "    distances = torch.abs(torch.matmul(vec, normal))\n",
    "    return torch.sum(distances)\n",
    "cluster_residuals(clusters[0])\n"
   ]
  },
  {
   "cell_type": "code",
   "execution_count": 46,
   "id": "0289eb79",
   "metadata": {},
   "outputs": [
    {
     "data": {
      "text/plain": [
       "tensor(70.6257, device='cuda:0')"
      ]
     },
     "execution_count": 46,
     "metadata": {},
     "output_type": "execute_result"
    }
   ],
   "source": [
    "def merged_residual_diff_percent(c1, c2):\n",
    "    r_prior = cluster_residuals(c1) + cluster_residuals(c2)\n",
    "    r_post = cluster_residuals(merge_clusters(c1, c2))\n",
    "    return (r_post - r_prior) / r_prior * 100.0 \n",
    "\n",
    "merged_residual_diff_percent(c1, c2)"
   ]
  },
  {
   "cell_type": "code",
   "execution_count": 41,
   "id": "31ce0378",
   "metadata": {},
   "outputs": [
    {
     "data": {
      "text/plain": [
       "(tensor([[89, 67],\n",
       "         [32, 30],\n",
       "         [79, 15],\n",
       "         ...,\n",
       "         [60, 23],\n",
       "         [97, 23],\n",
       "         [40, 23]]),\n",
       " tensor([0.0591, 0.0627, 0.0654,  ..., 1.7361, 1.7436, 1.7535]))"
      ]
     },
     "execution_count": 41,
     "metadata": {},
     "output_type": "execute_result"
    }
   ],
   "source": [
    "def distance_pairs(centroids): \n",
    "    dmatrix = torch.cdist(centroids, centroids) \n",
    "    dmatrix = dmatrix.fill_diagonal_(float('inf'))\n",
    "    tril_indices = torch.tril_indices(dmatrix.size(0), dmatrix.size(1), offset=-1)\n",
    "    distances = dmatrix[tril_indices[0], tril_indices[1]]\n",
    "    sorted_indices = distances.argsort()\n",
    "    sorted_pairs = torch.stack((tril_indices[0][sorted_indices], tril_indices[1][sorted_indices]), dim=1)\n",
    "    sorted_distances = distances[sorted_indices]\n",
    "    return sorted_pairs, sorted_distances\n",
    "\n",
    "distance_pairs(cl_centroids)"
   ]
  },
  {
   "cell_type": "code",
   "execution_count": 42,
   "id": "d656137e",
   "metadata": {},
   "outputs": [
    {
     "data": {
      "text/plain": [
       "tensor(0.6252, device='cuda:0')"
      ]
     },
     "execution_count": 42,
     "metadata": {},
     "output_type": "execute_result"
    }
   ],
   "source": [
    "def pairs_angle(c1, c2): \n",
    "    c1_mean, c1_direction, c1_normal = compute_pca(c1)\n",
    "    c2_mean, c2_direction, c2_normal = compute_pca(c2)\n",
    "    angle = torch.acos(torch.dot(c1_normal, c2_normal) / (torch.norm(c1_normal) * torch.norm(c2_normal)))\n",
    "    return angle\n",
    "\n",
    "c1 = clusters[89]\n",
    "c2 = clusters[67]\n",
    "pairs_angle(c1, c2)"
   ]
  },
  {
   "cell_type": "code",
   "execution_count": 35,
   "id": "779404a8",
   "metadata": {},
   "outputs": [
    {
     "name": "stdout",
     "output_type": "stream",
     "text": [
      "torch.Size([8, 3]) torch.Size([6, 3])\n",
      "torch.Size([14, 3])\n"
     ]
    }
   ],
   "source": [
    "def merge_clusters(c1, c2):\n",
    "    merged = torch.cat((c1, c2), dim=0)\n",
    "    return merged\n",
    "\n",
    "print(c1.shape, c2.shape)\n",
    "merged = merge_clusters(c1, c2)\n",
    "print(merged.shape)"
   ]
  },
  {
   "cell_type": "code",
   "execution_count": 49,
   "id": "fe733d04",
   "metadata": {},
   "outputs": [],
   "source": [
    "def compute_threshold(rdpercents): \n",
    "    return torch.quantile(rdpercents, 0.75)"
   ]
  },
  {
   "cell_type": "code",
   "execution_count": 58,
   "id": "da70ba03",
   "metadata": {},
   "outputs": [
    {
     "name": "stdout",
     "output_type": "stream",
     "text": [
      "running k-means on cuda..\n"
     ]
    },
    {
     "name": "stderr",
     "output_type": "stream",
     "text": [
      "[running kmeans]: 0it [00:00, ?it/s, center_shift=12.905282, iteration=1, tol=0.000100]"
     ]
    },
    {
     "name": "stderr",
     "output_type": "stream",
     "text": [
      "[running kmeans]: 13it [00:00, 51.74it/s, center_shift=0.000000, iteration=13, tol=0.000100]\n"
     ]
    }
   ],
   "source": [
    "# all the way stage one test \n",
    "c_idx, c_centroids = initialize_clusters(sample, device, k=100)\n",
    "clusters = get_clusters(sample, cl_idx)\n",
    "pairs, distances = distance_pairs(c_centroids)\n",
    "\n",
    "rdpercent = [] \n",
    "for i, (c1_idx, c2_idx) in enumerate(pairs):\n",
    "    c1 = clusters[c1_idx]\n",
    "    c2 = clusters[c2_idx]\n",
    "    rdpercent.append(merged_residual_diff_percent(c1, c2))\n",
    "rpercent = torch.tensor(rdpercent, dtype=torch.float32).to(device)"
   ]
  },
  {
   "cell_type": "code",
   "execution_count": 60,
   "id": "444d8e53",
   "metadata": {},
   "outputs": [
    {
     "data": {
      "text/plain": [
       "tensor(69.5705, device='cuda:0')"
      ]
     },
     "execution_count": 60,
     "metadata": {},
     "output_type": "execute_result"
    }
   ],
   "source": [
    "t = compute_threshold(rpercent)\n",
    "t"
   ]
  },
  {
   "cell_type": "code",
   "execution_count": 13,
   "id": "c8034819",
   "metadata": {},
   "outputs": [
    {
     "ename": "NameError",
     "evalue": "name 'num_clusters' is not defined",
     "output_type": "error",
     "traceback": [
      "\u001b[0;31m---------------------------------------------------------------------------\u001b[0m",
      "\u001b[0;31mNameError\u001b[0m                                 Traceback (most recent call last)",
      "Cell \u001b[0;32mIn[13], line 2\u001b[0m\n\u001b[1;32m      1\u001b[0m \u001b[38;5;66;03m# get all clusters \u001b[39;00m\n\u001b[0;32m----> 2\u001b[0m clusters_xyz \u001b[38;5;241m=\u001b[39m [sample[c_idx \u001b[38;5;241m==\u001b[39m i][:, :\u001b[38;5;241m3\u001b[39m] \u001b[38;5;28;01mfor\u001b[39;00m i \u001b[38;5;129;01min\u001b[39;00m \u001b[38;5;28mrange\u001b[39m(\u001b[43mnum_clusters\u001b[49m)]\n",
      "\u001b[0;31mNameError\u001b[0m: name 'num_clusters' is not defined"
     ]
    }
   ],
   "source": [
    "# get all clusters \n",
    "clusters_xyz = [sample[c_idx == i][:, :3] for i in range(num_clusters)]"
   ]
  },
  {
   "cell_type": "code",
   "execution_count": 47,
   "id": "cc89334c",
   "metadata": {},
   "outputs": [],
   "source": [
    "# compute distances between centroids \n",
    "distance_matrix = torch.cdist(c_centroids, c_centroids)\n",
    "distance_matrix = distance_matrix.fill_diagonal_(float('inf'))\n",
    "tril_indices = torch.tril_indices(distance_matrix.size(0), distance_matrix.size(1), offset=-1)\n",
    "distances = distance_matrix[tril_indices[0], tril_indices[1]]"
   ]
  },
  {
   "cell_type": "code",
   "execution_count": 51,
   "id": "37f3a8da",
   "metadata": {},
   "outputs": [],
   "source": [
    "sorted_distances, sorted_indices = torch.sort(distances)\n",
    "pairs = torch.stack((tril_indices[0][sorted_indices], tril_indices[1][sorted_indices]), dim=1)"
   ]
  },
  {
   "cell_type": "code",
   "execution_count": 57,
   "id": "7b6974fc",
   "metadata": {},
   "outputs": [],
   "source": [
    "c_centroids = c_centroids.cuda()"
   ]
  },
  {
   "cell_type": "code",
   "execution_count": 58,
   "id": "3fded1a9",
   "metadata": {},
   "outputs": [],
   "source": [
    "# normalize clusters \n",
    "clusters_xyz = [c - c_centroids[i] for i, c in enumerate(clusters_xyz)]"
   ]
  },
  {
   "cell_type": "code",
   "execution_count": 89,
   "id": "dc611ecb",
   "metadata": {},
   "outputs": [],
   "source": [
    "# for each cluster in clusters_xyz, compute the PCA\n",
    "cov_matrices = [torch.cov(cluster.T) for cluster in clusters_xyz]"
   ]
  },
  {
   "cell_type": "code",
   "execution_count": 90,
   "id": "60ba5109",
   "metadata": {},
   "outputs": [],
   "source": [
    "eigen = [torch.linalg.eigh(cov_matrix) for cov_matrix in cov_matrices]"
   ]
  },
  {
   "cell_type": "code",
   "execution_count": 91,
   "id": "d2b99158",
   "metadata": {},
   "outputs": [],
   "source": [
    "eigen_idx = [torch.argsort(eigen[i].eigenvalues, descending=True) for i in range(num_clusters)]"
   ]
  },
  {
   "cell_type": "code",
   "execution_count": 92,
   "id": "a2c1cfd3",
   "metadata": {},
   "outputs": [],
   "source": [
    "eigenvalues_sorted = [eigen[i].eigenvalues[eigen_idx[i]] for i in range(num_clusters)]"
   ]
  },
  {
   "cell_type": "code",
   "execution_count": 93,
   "id": "66f3bd32",
   "metadata": {},
   "outputs": [],
   "source": [
    "eigenvectors_sorted = [eigen[i].eigenvectors[:, eigen_idx[i]] for i in range(num_clusters)]"
   ]
  },
  {
   "cell_type": "code",
   "execution_count": null,
   "id": "d3bec8e0",
   "metadata": {},
   "outputs": [],
   "source": [
    "# Function to get normal, direction "
   ]
  },
  {
   "cell_type": "code",
   "execution_count": 94,
   "id": "d02702ad",
   "metadata": {},
   "outputs": [],
   "source": [
    "eigenvalues_sorted, eigenvectors_sorted = [], []\n",
    "\n",
    "for cov in cov_matrices:\n",
    "    vals, vecs = torch.linalg.eigh(cov)\n",
    "    idx = torch.argsort(vals, descending=True)\n",
    "    eigenvalues_sorted.append(vals[idx])\n",
    "    eigenvectors_sorted.append(vecs[:, idx])"
   ]
  },
  {
   "cell_type": "code",
   "execution_count": 95,
   "id": "ff170948",
   "metadata": {},
   "outputs": [],
   "source": [
    "# extract normals of the cluster -> the second eigenvector \n",
    "direct_vectors = [eigenvectors_sorted[i][:, 0] for i in range(num_clusters)]\n",
    "normals = [eigenvectors_sorted[i][:, 1] for i in range(num_clusters)]"
   ]
  },
  {
   "cell_type": "code",
   "execution_count": 99,
   "id": "4f09e3e3",
   "metadata": {},
   "outputs": [],
   "source": [
    "# calculate the angle between the best-fit planes of each pair of clusters \n",
    "angles = [] \n",
    "for i in range(len(pairs)):\n",
    "    idx1, idx2 = pairs[i, 0], pairs[i, 1]\n",
    "    normal1 = normals[idx1]\n",
    "    normal2 = normals[idx2]\n",
    "    angle = torch.acos(torch.dot(normal1, normal2) / (torch.norm(normal1) * torch.norm(normal2)))\n",
    "    angles.append(angle.item())"
   ]
  },
  {
   "cell_type": "code",
   "execution_count": 105,
   "id": "d8887100",
   "metadata": {},
   "outputs": [
    {
     "name": "stderr",
     "output_type": "stream",
     "text": [
      "/tmp/ipykernel_1466842/1225822824.py:1: UserWarning: To copy construct from a tensor, it is recommended to use sourceTensor.clone().detach() or sourceTensor.clone().detach().requires_grad_(True), rather than torch.tensor(sourceTensor).\n",
      "  angles = torch.tensor(angles)\n"
     ]
    }
   ],
   "source": [
    "angles = torch.tensor(angles)\n",
    "angles_sorted, angles_indices = torch.sort(angles, descending=False)"
   ]
  },
  {
   "cell_type": "code",
   "execution_count": 124,
   "id": "25b12b16",
   "metadata": {},
   "outputs": [],
   "source": [
    "def calculate_residuals(clusters_xyz, c_centroids, normals):\n",
    "    \"\"\"\n",
    "    Calculate the residuals for each cluster based on the distance from points to the plane defined by the centroid and normal.\n",
    "    \"\"\"\n",
    "    residuals = []\n",
    "    for i in range(num_clusters):\n",
    "        cluster = clusters_xyz[i]\n",
    "        centroid = c_centroids[i]\n",
    "        normal = normals[i]\n",
    "        # calculate the distance from each point in the cluster to the plane defined by the centroid and normal\n",
    "        vec = cluster - centroid \n",
    "        normal = normal / torch.norm(normal) \n",
    "        distances = torch.abs(torch.matmul(vec, normal))\n",
    "        residual = torch.sum(distances)\n",
    "        residuals.append(residual.item())\n",
    "    return torch.tensor(residuals) "
   ]
  },
  {
   "cell_type": "code",
   "execution_count": 125,
   "id": "a0d9c7ac",
   "metadata": {},
   "outputs": [],
   "source": [
    "res_prior = calculate_residuals(clusters_xyz, c_centroids, normals)"
   ]
  },
  {
   "cell_type": "code",
   "execution_count": 128,
   "id": "db04bdc6",
   "metadata": {},
   "outputs": [],
   "source": [
    "# function to merge pairs of clusters \n",
    "def merge_clusters(clusters_xyz, pairs): \n",
    "    \"\"\"\n",
    "    Merge clusters based on the pairs provided.\n",
    "    \"\"\"\n",
    "    merged_clusters = []\n",
    "    for i in range(len(pairs)):\n",
    "        idx1, idx2 = pairs[i, 0], pairs[i, 1]\n",
    "        # Concatenate the clusters along the first dimension\n",
    "        merged_cluster = torch.cat([clusters_xyz[idx1], clusters_xyz[idx2]], dim=0)\n",
    "        merged_clusters.append(merged_cluster)\n",
    "    \n",
    "    return merged_clusters"
   ]
  },
  {
   "cell_type": "code",
   "execution_count": 129,
   "id": "ffdd0b0f",
   "metadata": {},
   "outputs": [],
   "source": [
    "merged_pairs = merge_clusters(clusters_xyz, pairs)"
   ]
  },
  {
   "cell_type": "code",
   "execution_count": 132,
   "id": "ac43bdf4",
   "metadata": {},
   "outputs": [],
   "source": [
    "post_merge_centroids = torch.stack([torch.mean(cluster, dim=0) for cluster in merged_pairs])    "
   ]
  },
  {
   "cell_type": "code",
   "execution_count": null,
   "id": "b8510608",
   "metadata": {},
   "outputs": [],
   "source": [
    "post_merge_normals = "
   ]
  },
  {
   "cell_type": "code",
   "execution_count": 162,
   "id": "eb449ae2",
   "metadata": {},
   "outputs": [],
   "source": [
    "# paris \n",
    "cluster_pairs_idx = sorted_cluster_pairs[:, 0:2].int()"
   ]
  },
  {
   "cell_type": "code",
   "execution_count": 163,
   "id": "65886028",
   "metadata": {},
   "outputs": [],
   "source": [
    "pair_idx = cluster_pairs_idx[0, :2]"
   ]
  },
  {
   "cell_type": "code",
   "execution_count": 166,
   "id": "10a4c2bb",
   "metadata": {},
   "outputs": [],
   "source": [
    "normal_x = normals[pair_idx[0]]\n",
    "normal_y = normals[pair_idx[1]]"
   ]
  },
  {
   "cell_type": "code",
   "execution_count": 169,
   "id": "1a687c13",
   "metadata": {},
   "outputs": [],
   "source": [
    "def calculate_angle(normal_x, normal_y): \n",
    "    return torch.acos(torch.dot(normal_x, normal_y) / (torch.norm(normal_x) * torch.norm(normal_y)))"
   ]
  },
  {
   "cell_type": "code",
   "execution_count": 173,
   "id": "13b08c28",
   "metadata": {},
   "outputs": [],
   "source": [
    "def calculate_angles_per_pair(cluster_pairs_idx, normals): \n",
    "    angles = [] \n",
    "    for pair_idx in cluster_pairs_idx: \n",
    "        normal_x = normals[pair_idx[0]]\n",
    "        normal_y = normals[pair_idx[1]]\n",
    "        angle = calculate_angle(normal_x, normal_y)\n",
    "        angles.append(angle.item())\n",
    "    angles = torch.tensor(angles, dtype=torch.float32)\n",
    "    return angles"
   ]
  },
  {
   "cell_type": "code",
   "execution_count": 174,
   "id": "52012d3d",
   "metadata": {},
   "outputs": [],
   "source": [
    "cluster_angles = calculate_angles_per_pair(cluster_pairs_idx, normals)"
   ]
  },
  {
   "cell_type": "code",
   "execution_count": 177,
   "id": "2a7ee31d",
   "metadata": {},
   "outputs": [],
   "source": [
    "cluster_angles_sorted_idx = torch.argsort(cluster_angles, descending=True)"
   ]
  },
  {
   "cell_type": "code",
   "execution_count": null,
   "id": "ab0c2d73",
   "metadata": {},
   "outputs": [],
   "source": [
    "def calculate_threshold"
   ]
  },
  {
   "cell_type": "code",
   "execution_count": 178,
   "id": "7ad14e4b",
   "metadata": {},
   "outputs": [
    {
     "data": {
      "text/plain": [
       "tensor([79, 57, 76,  6,  7, 10, 52, 72, 75,  5, 43, 44, 20, 19, 34, 35, 84, 85,\n",
       "         4,  3, 49, 48, 80, 78, 62, 59, 58, 90,  9,  8, 83, 99, 71, 36, 37, 81,\n",
       "        26, 27, 56, 55, 69, 15, 16, 86, 87, 91, 23, 17, 18, 64, 65, 66, 77, 39,\n",
       "        38, 47, 42, 70, 88, 14, 74, 22, 21, 24, 68, 29, 30, 92, 93, 13, 96, 95,\n",
       "        94, 97, 98, 25, 54, 53, 67, 50, 51,  2, 73, 40, 41, 33, 11, 12, 28, 89,\n",
       "         1,  0, 32, 31, 45, 46, 60, 61, 82, 63])"
      ]
     },
     "execution_count": 178,
     "metadata": {},
     "output_type": "execute_result"
    }
   ],
   "source": [
    "cluster_angles_sorted_idx"
   ]
  },
  {
   "cell_type": "code",
   "execution_count": null,
   "id": "3e0684e7",
   "metadata": {},
   "outputs": [],
   "source": []
  }
 ],
 "metadata": {
  "kernelspec": {
   "display_name": "mae3d",
   "language": "python",
   "name": "python3"
  },
  "language_info": {
   "codemirror_mode": {
    "name": "ipython",
    "version": 3
   },
   "file_extension": ".py",
   "mimetype": "text/x-python",
   "name": "python",
   "nbconvert_exporter": "python",
   "pygments_lexer": "ipython3",
   "version": "3.10.10"
  }
 },
 "nbformat": 4,
 "nbformat_minor": 5
}
