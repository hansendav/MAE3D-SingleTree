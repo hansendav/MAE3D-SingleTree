{
 "cells": [
  {
   "cell_type": "code",
   "execution_count": 1,
   "id": "79922468",
   "metadata": {},
   "outputs": [],
   "source": [
    "import numpy as np \n",
    "import torch \n",
    "import torch.nn as nn\n",
    "import torch.nn.functional as F\n",
    "\n",
    "from torch.utils.data import DataLoader \n",
    "import sys \n",
    "sys.path.append('../')\n",
    "\n",
    "from data_yours import ALS_50K"
   ]
  },
  {
   "cell_type": "code",
   "execution_count": 2,
   "id": "8afa2c20",
   "metadata": {},
   "outputs": [],
   "source": [
    "# get sample \n",
    "ds = ALS_50K(num_points=2048)\n",
    "sample = ds[25542]"
   ]
  },
  {
   "cell_type": "code",
   "execution_count": 3,
   "id": "fefda7bf",
   "metadata": {},
   "outputs": [
    {
     "data": {
      "text/plain": [
       "(2048, 3)"
      ]
     },
     "execution_count": 3,
     "metadata": {},
     "output_type": "execute_result"
    }
   ],
   "source": [
    "# get xyz \n",
    "sample = sample[0]\n",
    "sample.shape"
   ]
  },
  {
   "cell_type": "code",
   "execution_count": 4,
   "id": "c5de9b1d",
   "metadata": {},
   "outputs": [
    {
     "data": {
      "text/plain": [
       "device(type='cuda')"
      ]
     },
     "execution_count": 4,
     "metadata": {},
     "output_type": "execute_result"
    }
   ],
   "source": [
    "device = torch.device('cuda' if torch.cuda.is_available() else 'cpu')\n",
    "device"
   ]
  },
  {
   "cell_type": "code",
   "execution_count": 5,
   "id": "d7a53bab",
   "metadata": {},
   "outputs": [],
   "source": [
    "sample = torch.tensor(sample, dtype=torch.float32).to(device)  # add batch dimension"
   ]
  },
  {
   "cell_type": "markdown",
   "id": "303077ae",
   "metadata": {},
   "source": [
    "## For a single point cloud"
   ]
  },
  {
   "cell_type": "markdown",
   "id": "351bb654",
   "metadata": {},
   "source": [
    "## kNN Clustering function "
   ]
  },
  {
   "cell_type": "code",
   "execution_count": 6,
   "id": "bae46c7f",
   "metadata": {},
   "outputs": [],
   "source": [
    "from kmeans_pytorch import kmeans"
   ]
  },
  {
   "cell_type": "code",
   "execution_count": null,
   "id": "8d0369fd",
   "metadata": {},
   "outputs": [],
   "source": [
    "def get_tree_center_xy(pc): \n",
    "    return torch.mean(pc[:,:2], dim=0)\n",
    "get_tree_center_xy(sample)"
   ]
  },
  {
   "cell_type": "code",
   "execution_count": 36,
   "id": "99f9ae52",
   "metadata": {},
   "outputs": [
    {
     "name": "stdout",
     "output_type": "stream",
     "text": [
      "running k-means on cuda..\n"
     ]
    },
    {
     "name": "stderr",
     "output_type": "stream",
     "text": [
      "[running kmeans]: 11it [00:00, 57.28it/s, center_shift=0.000000, iteration=11, tol=0.000100]\n"
     ]
    },
    {
     "data": {
      "text/plain": [
       "(torch.Size([2048]), torch.Size([100, 3]))"
      ]
     },
     "execution_count": 36,
     "metadata": {},
     "output_type": "execute_result"
    }
   ],
   "source": [
    "def initialize_clusters(pc, device, k=100):\n",
    "    c_idx, c_centroids = kmeans(\n",
    "        X=pc,\n",
    "        num_clusters=k,\n",
    "        distance='euclidean',\n",
    "        device=device\n",
    "    )\n",
    "    return c_idx, c_centroids\n",
    "cl_idx, cl_centroids = initialize_clusters(sample, device, k=100)\n",
    "cl_idx.shape, cl_centroids.shape"
   ]
  },
  {
   "cell_type": "code",
   "execution_count": 37,
   "id": "efd8ff16",
   "metadata": {},
   "outputs": [
    {
     "data": {
      "text/plain": [
       "(100, torch.Size([16, 3]))"
      ]
     },
     "execution_count": 37,
     "metadata": {},
     "output_type": "execute_result"
    }
   ],
   "source": [
    "def get_clusters(pc, c_idx):\n",
    "    \"\"\"\n",
    "    Splits the point cloud (pc) into clusters according to c_idx.\n",
    "    Returns a list of tensors, one per cluster.\n",
    "    \"\"\"\n",
    "    return [pc[c_idx == i] for i in range(c_idx.max() + 1)]\n",
    "clusters = get_clusters(sample, cl_idx)\n",
    "len(clusters), clusters[0].shape"
   ]
  },
  {
   "cell_type": "code",
   "execution_count": 38,
   "id": "63028ac9",
   "metadata": {},
   "outputs": [
    {
     "data": {
      "text/plain": [
       "(tensor([ 0.0554,  0.1117, -0.2008], device='cuda:0'),\n",
       " tensor([-0.2600, -0.0675,  0.9633], device='cuda:0'),\n",
       " tensor([-0.5133, -0.8353, -0.1970], device='cuda:0'))"
      ]
     },
     "execution_count": 38,
     "metadata": {},
     "output_type": "execute_result"
    }
   ],
   "source": [
    "def compute_pca(points):\n",
    "    mean = points.mean(dim=0)\n",
    "    X = points - mean\n",
    "    eigvals, eigvecs = torch.linalg.eigh(torch.cov(X.T))\n",
    "    idx = torch.argsort(eigvals, descending=True)\n",
    "    eigvecs = eigvecs[:, idx]\n",
    "    direction = eigvecs[:, 0]  # 1st principal component\n",
    "    normal = eigvecs[:, 1]     # 2nd principal component\n",
    "    return mean, direction, normal\n",
    "compute_pca(clusters[0])"
   ]
  },
  {
   "cell_type": "code",
   "execution_count": 39,
   "id": "be1d83e8",
   "metadata": {},
   "outputs": [
    {
     "data": {
      "text/plain": [
       "tensor(0.5534, device='cuda:0')"
      ]
     },
     "execution_count": 39,
     "metadata": {},
     "output_type": "execute_result"
    }
   ],
   "source": [
    "def cluster_residuals(cluster):\n",
    "    centroid, direction, normal = compute_pca(cluster)\n",
    "    vec = cluster - centroid \n",
    "    normal = normal / torch.norm(normal) \n",
    "    distances = torch.abs(torch.matmul(vec, normal))\n",
    "    return torch.sum(distances)\n",
    "cluster_residuals(clusters[0])\n"
   ]
  },
  {
   "cell_type": "code",
   "execution_count": 46,
   "id": "0289eb79",
   "metadata": {},
   "outputs": [
    {
     "data": {
      "text/plain": [
       "tensor(70.6257, device='cuda:0')"
      ]
     },
     "execution_count": 46,
     "metadata": {},
     "output_type": "execute_result"
    }
   ],
   "source": [
    "def merged_residual_diff_percent(c1, c2):\n",
    "    r_prior = cluster_residuals(c1) + cluster_residuals(c2)\n",
    "    r_post = cluster_residuals(merge_clusters(c1, c2))\n",
    "    return (r_post - r_prior) / r_prior * 100.0 \n",
    "\n",
    "merged_residual_diff_percent(c1, c2)"
   ]
  },
  {
   "cell_type": "code",
   "execution_count": 41,
   "id": "31ce0378",
   "metadata": {},
   "outputs": [
    {
     "data": {
      "text/plain": [
       "(tensor([[89, 67],\n",
       "         [32, 30],\n",
       "         [79, 15],\n",
       "         ...,\n",
       "         [60, 23],\n",
       "         [97, 23],\n",
       "         [40, 23]]),\n",
       " tensor([0.0591, 0.0627, 0.0654,  ..., 1.7361, 1.7436, 1.7535]))"
      ]
     },
     "execution_count": 41,
     "metadata": {},
     "output_type": "execute_result"
    }
   ],
   "source": [
    "def distance_pairs(centroids): \n",
    "    dmatrix = torch.cdist(centroids, centroids) \n",
    "    dmatrix = dmatrix.fill_diagonal_(float('inf'))\n",
    "    tril_indices = torch.tril_indices(dmatrix.size(0), dmatrix.size(1), offset=-1)\n",
    "    distances = dmatrix[tril_indices[0], tril_indices[1]]\n",
    "    sorted_indices = distances.argsort()\n",
    "    sorted_pairs = torch.stack((tril_indices[0][sorted_indices], tril_indices[1][sorted_indices]), dim=1)\n",
    "    sorted_distances = distances[sorted_indices]\n",
    "    return sorted_pairs, sorted_distances\n",
    "\n",
    "distance_pairs(cl_centroids)"
   ]
  },
  {
   "cell_type": "code",
   "execution_count": 42,
   "id": "d656137e",
   "metadata": {},
   "outputs": [
    {
     "data": {
      "text/plain": [
       "tensor(0.6252, device='cuda:0')"
      ]
     },
     "execution_count": 42,
     "metadata": {},
     "output_type": "execute_result"
    }
   ],
   "source": [
    "def pairs_angle(c1, c2): \n",
    "    c1_mean, c1_direction, c1_normal = compute_pca(c1)\n",
    "    c2_mean, c2_direction, c2_normal = compute_pca(c2)\n",
    "    angle = torch.acos(torch.dot(c1_normal, c2_normal) / (torch.norm(c1_normal) * torch.norm(c2_normal)))\n",
    "    return angle\n",
    "\n",
    "c1 = clusters[89]\n",
    "c2 = clusters[67]\n",
    "pairs_angle(c1, c2)"
   ]
  },
  {
   "cell_type": "code",
   "execution_count": 35,
   "id": "779404a8",
   "metadata": {},
   "outputs": [
    {
     "name": "stdout",
     "output_type": "stream",
     "text": [
      "torch.Size([8, 3]) torch.Size([6, 3])\n",
      "torch.Size([14, 3])\n"
     ]
    }
   ],
   "source": [
    "def merge_clusters(c1, c2):\n",
    "    merged = torch.cat((c1, c2), dim=0)\n",
    "    return merged\n",
    "\n",
    "print(c1.shape, c2.shape)\n",
    "merged = merge_clusters(c1, c2)\n",
    "print(merged.shape)"
   ]
  },
  {
   "cell_type": "code",
   "execution_count": 49,
   "id": "fe733d04",
   "metadata": {},
   "outputs": [],
   "source": [
    "def compute_threshold(rdpercents): \n",
    "    return torch.quantile(rdpercents, 0.75)"
   ]
  },
  {
   "cell_type": "code",
   "execution_count": 58,
   "id": "da70ba03",
   "metadata": {},
   "outputs": [
    {
     "name": "stdout",
     "output_type": "stream",
     "text": [
      "running k-means on cuda..\n"
     ]
    },
    {
     "name": "stderr",
     "output_type": "stream",
     "text": [
      "[running kmeans]: 0it [00:00, ?it/s, center_shift=12.905282, iteration=1, tol=0.000100]"
     ]
    },
    {
     "name": "stderr",
     "output_type": "stream",
     "text": [
      "[running kmeans]: 13it [00:00, 51.74it/s, center_shift=0.000000, iteration=13, tol=0.000100]\n"
     ]
    }
   ],
   "source": [
    "# all the way stage one test \n",
    "c_idx, c_centroids = initialize_clusters(sample, device, k=100)\n",
    "clusters = get_clusters(sample, cl_idx)\n",
    "pairs, distances = distance_pairs(c_centroids)\n",
    "\n",
    "rdpercent = [] \n",
    "for i, (c1_idx, c2_idx) in enumerate(pairs):\n",
    "    c1 = clusters[c1_idx]\n",
    "    c2 = clusters[c2_idx]\n",
    "    rdpercent.append(merged_residual_diff_percent(c1, c2))\n",
    "rpercent = torch.tensor(rdpercent, dtype=torch.float32).to(device)"
   ]
  },
  {
   "cell_type": "code",
   "execution_count": 60,
   "id": "444d8e53",
   "metadata": {},
   "outputs": [
    {
     "data": {
      "text/plain": [
       "tensor(69.5705, device='cuda:0')"
      ]
     },
     "execution_count": 60,
     "metadata": {},
     "output_type": "execute_result"
    }
   ],
   "source": [
    "t = compute_threshold(rpercent)\n",
    "t"
   ]
  },
  {
   "cell_type": "code",
   "execution_count": 72,
   "id": "50164315",
   "metadata": {},
   "outputs": [],
   "source": [
    "def sort_pairs_distance_angle(pairs, distances, angles):\n",
    "    # Sort by distance + small weight on angle\n",
    "    sort_metric = distances + 1e-2 * angles\n",
    "    sorted_indices = torch.argsort(sort_metric)\n",
    "    sorted_pairs = pairs[sorted_indices]\n",
    "    return sorted_pairs\n",
    "\n",
    "# get all angles per pair \n",
    "angles = torch.tensor([pairs_angle(clusters[pair[0]], clusters[pair[1]]) for pair in pairs], dtype=torch.float32).to(device)\n",
    "# Ensure distances is on the same device as angles\n",
    "distances = distances.to(device)\n",
    "sorted_pairs = sort_pairs_distance_angle(pairs, distances, angles)"
   ]
  },
  {
   "cell_type": "code",
   "execution_count": 73,
   "id": "ecd03ad6",
   "metadata": {},
   "outputs": [
    {
     "data": {
      "text/plain": [
       "tensor([[59, 21],\n",
       "        [35, 33],\n",
       "        [50, 21],\n",
       "        ...,\n",
       "        [27,  8],\n",
       "        [27,  7],\n",
       "        [49, 27]], device='cuda:0')"
      ]
     },
     "execution_count": 73,
     "metadata": {},
     "output_type": "execute_result"
    }
   ],
   "source": [
    "sorted_pairs"
   ]
  },
  {
   "cell_type": "code",
   "execution_count": 78,
   "id": "d67337d4",
   "metadata": {},
   "outputs": [],
   "source": [
    "diff_percen = [merged_residual_diff_percent(clusters[pair[0]], clusters[pair[1]]) for pair in sorted_pairs]"
   ]
  },
  {
   "cell_type": "code",
   "execution_count": 81,
   "id": "4c0d05d8",
   "metadata": {},
   "outputs": [],
   "source": [
    "diff_percent = torch.tensor(diff_percen, dtype=torch.float32).to(device)"
   ]
  },
  {
   "cell_type": "code",
   "execution_count": 88,
   "id": "a0c8bbe3",
   "metadata": {},
   "outputs": [],
   "source": [
    "below_threshold_indices = torch.nonzero(diff_percent < t, as_tuple=False).squeeze()"
   ]
  },
  {
   "cell_type": "code",
   "execution_count": 108,
   "id": "60741f8c",
   "metadata": {},
   "outputs": [
    {
     "name": "stdout",
     "output_type": "stream",
     "text": [
      "running k-means on cuda..\n"
     ]
    },
    {
     "name": "stderr",
     "output_type": "stream",
     "text": [
      "[running kmeans]: 13it [00:00, 50.35it/s, center_shift=0.000000, iteration=13, tol=0.000100]\n"
     ]
    }
   ],
   "source": [
    "# all the way stage one test \n",
    "c_idx, c_centroids = initialize_clusters(sample, device, k=100)\n",
    "clusters = get_clusters(sample, cl_idx)"
   ]
  },
  {
   "cell_type": "code",
   "execution_count": null,
   "id": "a97555ed",
   "metadata": {},
   "outputs": [
    {
     "name": "stdout",
     "output_type": "stream",
     "text": [
      "running k-means on cuda..\n"
     ]
    },
    {
     "name": "stderr",
     "output_type": "stream",
     "text": [
      "[running kmeans]: 0it [00:00, ?it/s, center_shift=10.314820, iteration=1, tol=0.000100]"
     ]
    },
    {
     "name": "stderr",
     "output_type": "stream",
     "text": [
      "[running kmeans]: 13it [00:00, 46.49it/s, center_shift=0.000068, iteration=13, tol=0.000100]\n"
     ]
    }
   ],
   "source": [
    "c_idx, c_centroids = initialize_clusters(sample, device, k=100)\n",
    "\n",
    "clusters = get_clusters(sample, cl_idx)\n",
    "pairs, distances = distance_pairs(c_centroids)\n",
    "distances = distances.to(device)\n",
    "angles = torch.tensor([pairs_angle(clusters[pair[0]], clusters[pair[1]]) for pair in pairs], dtype=torch.float32).to(device)\n",
    "sorted_pairs = sort_pairs_distance_angle(pairs.to(device), distances, angles)\n"
   ]
  },
  {
   "cell_type": "code",
   "execution_count": 119,
   "id": "5e14faa8",
   "metadata": {},
   "outputs": [],
   "source": [
    "# get threshold \n",
    "rdpercent = []\n",
    "for i, (c1_idx, c2_idx) in enumerate(sorted_pairs):\n",
    "    c1 = clusters[c1_idx]\n",
    "    c2 = clusters[c2_idx]\n",
    "    rdpercent.append(merged_residual_diff_percent(c1, c2))\n",
    "rpercent = torch.tensor(rdpercent, dtype=torch.float32).to(device)\n",
    "t = compute_threshold(rpercent)"
   ]
  },
  {
   "cell_type": "code",
   "execution_count": null,
   "id": "c226b7bc",
   "metadata": {},
   "outputs": [],
   "source": []
  }
 ],
 "metadata": {
  "kernelspec": {
   "display_name": "mae3d",
   "language": "python",
   "name": "python3"
  },
  "language_info": {
   "codemirror_mode": {
    "name": "ipython",
    "version": 3
   },
   "file_extension": ".py",
   "mimetype": "text/x-python",
   "name": "python",
   "nbconvert_exporter": "python",
   "pygments_lexer": "ipython3",
   "version": "3.10.10"
  }
 },
 "nbformat": 4,
 "nbformat_minor": 5
}
