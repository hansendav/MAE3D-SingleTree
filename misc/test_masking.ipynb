{
 "cells": [
  {
   "cell_type": "code",
   "execution_count": 227,
   "id": "31a65631",
   "metadata": {},
   "outputs": [],
   "source": [
    "import sys \n",
    "sys.path.append('../')\n",
    "\n",
    "from util import split_knn_patches \n",
    "import torch \n",
    "from torch.utils.data import Dataset, DataLoader \n",
    "import torch.nn.functional as F\n",
    "\n",
    "import numpy as np\n",
    "\n",
    "import h5py \n",
    "from pathlib import Path\n",
    "\n",
    "from pointnet2_ops.pointnet2_utils import furthest_point_sample\n",
    "\n",
    "import fpsample "
   ]
  },
  {
   "cell_type": "code",
   "execution_count": 250,
   "id": "628efb6f",
   "metadata": {},
   "outputs": [],
   "source": [
    "# dataset class for the 50K single tree, env dataset\n",
    "class SingleTree_Pretrain(Dataset): \n",
    "    def __init__(self, num_points=1024):\n",
    "        super().__init__()\n",
    "        self.num_points = num_points\n",
    "        self.data_file = Path('/share/projects/erasmus/hansend/thesis/data/pretraining/ssl_tree_pretraining_dataset.h5')\n",
    "        \n",
    "        with h5py.File(self.data_file, 'r') as f:\n",
    "            self.len = f['data']['instance_xyz'].shape[0]\n",
    "\n",
    "    def __len__(self):\n",
    "        return self.len \n",
    "\n",
    "    def __getitem__(self, idx): \n",
    "\n",
    "        with h5py.File(self.data_file, 'r', swmr=True) as f: \n",
    "            instance_xyz = f['data']['instance_xyz'][idx] \n",
    "            instance_xyz = instance_xyz.reshape(-1, 3) # -> (N, 3) \n",
    "            \n",
    "            # fps downsample pc \n",
    "            if instance_xyz.shape[0] > self.num_points:\n",
    "                instance_idxs = fpsample.bucket_fps_kdline_sampling(instance_xyz, self.num_points, h=3)\n",
    "                instance_xyz = instance_xyz[instance_idxs]\n",
    "\n",
    "            elif instance_xyz.shape[0] < self.num_points: \n",
    "                point_diff = self.num_points - instance_xyz.shape[0]\n",
    "                idxs = np.random.choice(instance_xyz.shape[0], point_diff, replace=True)\n",
    "                instance_xyz = np.concatenate((instance_xyz, instance_xyz[idxs]), axis=0)\n",
    "\n",
    "        return instance_xyz"
   ]
  },
  {
   "cell_type": "code",
   "execution_count": 229,
   "id": "9c7e2580",
   "metadata": {},
   "outputs": [],
   "source": [
    "def pad_collate_fn(batch):\n",
    "    batch = [torch.tensor(b) for b in batch]\n",
    "    max_len = max(pc.shape[0] for pc in batch)\n",
    "    padded_b = []\n",
    "    mask_b = []\n",
    "    for pc in batch:\n",
    "        pad_len = max_len - pc.shape[0]\n",
    "        padded_pc = F.pad(pc, (0, 0, 0, pad_len), value=0.0)\n",
    "        padded_b.append(padded_pc)\n",
    "        # Mask: 1 for real points, 0 for padded\n",
    "        mask = torch.cat([torch.ones(pc.shape[0]), torch.zeros(pad_len)])\n",
    "        mask_b.append(mask)\n",
    "\n",
    "    return torch.stack(padded_b), torch.stack(mask_b) # padded batch, mask batch "
   ]
  },
  {
   "cell_type": "code",
   "execution_count": 80,
   "id": "74f1b284",
   "metadata": {},
   "outputs": [],
   "source": [
    "def offset_collate_fn(batch): \n",
    "    batch = [torch.tensor(b) for b in batch]\n",
    "    npoints = [pc.shape[0] for pc in batch]\n",
    "    offset = torch.tensor(npoints).cumsum(0) \n",
    "\n",
    "    batch = torch.cat(batch) \n",
    "\n",
    "    return batch, offset "
   ]
  },
  {
   "cell_type": "code",
   "execution_count": 270,
   "id": "df0fd524",
   "metadata": {},
   "outputs": [],
   "source": [
    "ds = SingleTree_Pretrain()\n",
    "dl = DataLoader(ds, batch_size=8, shuffle=False, num_workers=4)\n",
    "batch = next(iter(dl))"
   ]
  },
  {
   "cell_type": "code",
   "execution_count": 271,
   "id": "fc8fd35e",
   "metadata": {},
   "outputs": [
    {
     "data": {
      "text/plain": [
       "torch.Size([8, 1024, 3])"
      ]
     },
     "execution_count": 271,
     "metadata": {},
     "output_type": "execute_result"
    }
   ],
   "source": [
    "batch.shape"
   ]
  },
  {
   "cell_type": "code",
   "execution_count": 114,
   "id": "2c755f5e",
   "metadata": {},
   "outputs": [],
   "source": [
    "def batch_sample(batch):\n",
    "    points, offsets = batch \n",
    "    B = batch[-1].shape[0]\n",
    "    lengths = offsets.clone().detach() \n",
    "    lengths[1:] = offsets[1:] - offsets[:-1] # calculate npoints per instance\n",
    "    lengths[0] = offsets[0] \n",
    "\n",
    "    pcs = torch.split(points, lengths.tolist())\n",
    "\n",
    "    return B, pcs"
   ]
  },
  {
   "cell_type": "code",
   "execution_count": 115,
   "id": "14a23eab",
   "metadata": {},
   "outputs": [],
   "source": [
    "pcs = batch_sample(batch)\n",
    "    "
   ]
  },
  {
   "cell_type": "code",
   "execution_count": 129,
   "id": "99cfa769",
   "metadata": {},
   "outputs": [],
   "source": [
    "pc = pcs[-1][0]"
   ]
  },
  {
   "cell_type": "code",
   "execution_count": 120,
   "id": "f0fdabcd",
   "metadata": {},
   "outputs": [
    {
     "name": "stdout",
     "output_type": "stream",
     "text": [
      "Num of patches: 64: Visible: 45, Masked: 19\n"
     ]
    }
   ],
   "source": [
    "# set masking and npoints setting \n",
    "num_points = 1024 \n",
    "masking_ratio = 0.3 \n",
    "patch_size = 16 \n",
    "\n",
    "num_patches = num_points // patch_size \n",
    "num_masked_patches = int(num_patches * masking_ratio) \n",
    "num_vis_patches = num_patches - num_masked_patches \n",
    "print(\n",
    "    f'Num of patches: {num_patches}: Visible: {num_vis_patches}, Masked: {num_masked_patches}'\n",
    ")"
   ]
  },
  {
   "cell_type": "code",
   "execution_count": 144,
   "id": "ed1ba306",
   "metadata": {},
   "outputs": [
    {
     "data": {
      "text/plain": [
       "2538"
      ]
     },
     "execution_count": 144,
     "metadata": {},
     "output_type": "execute_result"
    }
   ],
   "source": [
    "# get info pc \n",
    "pc_points = pc.shape[0]\n",
    "pc_points"
   ]
  },
  {
   "cell_type": "code",
   "execution_count": 145,
   "id": "b2c14c84",
   "metadata": {},
   "outputs": [],
   "source": [
    "# generate random T \n",
    "if np.random.choice([True, False]): \n",
    "    t, axis = np.median(pc[:,0]), 'x'\n",
    "else: \n",
    "    t, axis = np.median(pc[:, 1]), 'y'"
   ]
  },
  {
   "cell_type": "code",
   "execution_count": 146,
   "id": "10aae9b4",
   "metadata": {},
   "outputs": [],
   "source": [
    "# subset the point cloud\n",
    "if axis == 'x':\n",
    "    pc_vis = pc[pc[:, 0] > t] \n",
    "    pc_masked = pc[pc[:, 0] <= t]\n",
    "elif axis == 'y': \n",
    "    pc_vis = pc[pc[:, 1] <= t] \n",
    "    pc_masked = pc[pc[:, 1] > t]"
   ]
  },
  {
   "cell_type": "code",
   "execution_count": 178,
   "id": "b14d2e64",
   "metadata": {},
   "outputs": [],
   "source": [
    "# find patch centers in the subsets \n",
    "vis_centers = furthest_point_sample(pc_vis.cuda().unsqueeze(0), num_vis_patches).cpu().squeeze(0)\n",
    "masked_centers = furthest_point_sample(pc_masked.cuda().unsqueeze(0), num_masked_patches).cpu().squeeze(0)\n",
    "\n",
    "# select center points \n",
    "vis_center_points = pc_vis[vis_centers]\n",
    "masked_center_points = pc_masked[masked_centers]\n"
   ]
  },
  {
   "cell_type": "code",
   "execution_count": 198,
   "id": "4ddb1766",
   "metadata": {},
   "outputs": [],
   "source": [
    "def get_kNN_patch_idxs(xyz, center_xyz, k):\n",
    "    dists = torch.cdist(xyz, center_xyz)\n",
    "\n",
    "    _, knn_idxs = torch.topk(dists, k, largest=False, dim=0) # shape: (N points, 3)\n",
    "\n",
    "    return knn_idxs"
   ]
  },
  {
   "cell_type": "code",
   "execution_count": 200,
   "id": "8beb64fe",
   "metadata": {},
   "outputs": [],
   "source": [
    "vis_patch_idxs = get_kNN_patch_idxs(pc_vis, vis_center_points, k=patch_size)\n",
    "masked_patch_idxs = get_kNN_patch_idxs(pc_masked, masked_center_points, k=patch_size)"
   ]
  },
  {
   "cell_type": "code",
   "execution_count": 220,
   "id": "8ea4caf9",
   "metadata": {},
   "outputs": [],
   "source": [
    "vis_patches = [pc_vis[vis_patch_idxs[:, i]] for i in range(vis_patch_idxs.shape[1])]\n",
    "masked_patches = [pc_masked[masked_patch_idxs[:, i]] for i in range(masked_patch_idxs.shape[1])]"
   ]
  },
  {
   "cell_type": "code",
   "execution_count": 221,
   "id": "88ad519a",
   "metadata": {},
   "outputs": [],
   "source": [
    "vis_patches_tensor = torch.stack(vis_patches, dim=0)\n",
    "masked_patches_tensor = torch.stack(masked_patches, dim=0)\n",
    "\n"
   ]
  },
  {
   "cell_type": "code",
   "execution_count": null,
   "id": "421b3c5f",
   "metadata": {},
   "outputs": [],
   "source": []
  }
 ],
 "metadata": {
  "kernelspec": {
   "display_name": "Python 3",
   "language": "python",
   "name": "python3"
  },
  "language_info": {
   "codemirror_mode": {
    "name": "ipython",
    "version": 3
   },
   "file_extension": ".py",
   "mimetype": "text/x-python",
   "name": "python",
   "nbconvert_exporter": "python",
   "pygments_lexer": "ipython3",
   "version": "3.10.10"
  }
 },
 "nbformat": 4,
 "nbformat_minor": 5
}
