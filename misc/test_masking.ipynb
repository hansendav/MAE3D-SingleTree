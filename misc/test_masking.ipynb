{
 "cells": [
  {
   "cell_type": "code",
   "execution_count": 61,
   "id": "31a65631",
   "metadata": {},
   "outputs": [],
   "source": [
    "import sys \n",
    "sys.path.append('../')\n",
    "\n",
    "from util import split_knn_patches \n",
    "from util import * \n",
    "import torch \n",
    "from torch.utils.data import Dataset, DataLoader \n",
    "import torch.nn.functional as F\n",
    "\n",
    "import numpy as np\n",
    "\n",
    "import h5py \n",
    "from pathlib import Path\n",
    "\n",
    "from pointnet2_ops.pointnet2_utils import furthest_point_sample, ball_query\n",
    "\n",
    "import fpsample "
   ]
  },
  {
   "cell_type": "markdown",
   "id": "50c1aa1f",
   "metadata": {},
   "source": [
    "## Dataset + DataLoading "
   ]
  },
  {
   "cell_type": "code",
   "execution_count": null,
   "id": "adab614a",
   "metadata": {},
   "outputs": [],
   "source": [
    "def normalize_pointcloud(pointcloud: np.ndarray) -> np.ndarray: \n",
    "\n",
    "    # assert \n",
    "    assert pointcloud.shape[1] == 3, \"Pointcloud should be of shape (N, 3)\"\n",
    "\n",
    "    # center pointcloud into origin (z-axis too)\n",
    "    centroid = np.mean(pointcloud, axis=0)\n",
    "    pointcloud = pointcloud - centroid\n",
    "    \n",
    "    # farthest distance to origin \n",
    "    # normalize to unit sphere \n",
    "    m = np.max(np.sqrt(np.sum(pointcloud ** 2, axis=1)))\n",
    "    pointcloud = pointcloud / m\n",
    "    return pointcloud.astype(np.float32)"
   ]
  },
  {
   "cell_type": "code",
   "execution_count": null,
   "id": "aad82239",
   "metadata": {},
   "outputs": [],
   "source": [
    "### CHHANGED UNIFORMLY SCALING AND TRANSLATING\n",
    "def translate_pointcloud(pointcloud, scale_range=[0.6, 1.5], translation_range=[-0.01, 0.01]):\n",
    "    \n",
    "    if isinstance(pointcloud, torch.Tensor):\n",
    "        scale = torch.empty(1).uniform_(scale_range[0], scale_range[1]).item()\n",
    "        translation = torch.empty(1).uniform_(translation_range[0], translation_range[1]).item()\n",
    "\n",
    "        translated_pointcloud = (pointcloud * scale + translation).float()\n",
    "        return translated_pointcloud\n",
    "\n",
    "    else:\n",
    "        scale = np.random.uniform(low=scale_range[0], high=scale_range[1])\n",
    "        translation = np.random.uniform(low=translation_range[0], high=translation_range[1]) \n",
    "\n",
    "        translated_pointcloud = np.add(pointcloud*scale, translation).astype('float32')\n",
    "        return translated_pointcloud"
   ]
  },
  {
   "cell_type": "code",
   "execution_count": null,
   "id": "b99b70e1",
   "metadata": {},
   "outputs": [],
   "source": [
    "def jitter_pointcloud(pointcloud, sigma=0.01, clip=0.02):\n",
    "\n",
    "    if isinstance(pointcloud, torch.Tensor):\n",
    "        N, C = pointcloud.shape\n",
    "        pointcloud += torch.clamp(sigma * torch.randn(N, C), min=-1 * clip, max=clip)\n",
    "        return pointcloud\n",
    "    else:\n",
    "        N, C = pointcloud.shape\n",
    "        pointcloud += np.clip(sigma * np.random.randn(N, C), -1 * clip, clip)\n",
    "        return pointcloud\n",
    "\n",
    "def flip_pointcloud(pointcloud, p=0.5): \n",
    "    if np.random.rand() < p: \n",
    "        pointcloud[:, :2] = -pointcloud[:, :2]\n",
    "\n",
    "    return pointcloud"
   ]
  },
  {
   "cell_type": "code",
   "execution_count": null,
   "id": "b73b6489",
   "metadata": {},
   "outputs": [],
   "source": [
    "### CHANGED TO RATION AROUND Z-AXIS\n",
    "def rotate_pointcloud(pointcloud):\n",
    "\n",
    "    if isinstance(pointcloud, torch.Tensor):\n",
    "        theta = torch.empty(1).uniform_(0, 2 * torch.pi)\n",
    "        rotation_matrix = torch.tensor(\n",
    "            [\n",
    "                [torch.cos(theta), -torch.sin(theta), 0],\n",
    "                [torch.sin(theta), torch.cos(theta), 0],\n",
    "                [0, 0, 1]\n",
    "            ]\n",
    "        )\n",
    "        pointcloud = torch.matmul(pointcloud, rotation_matrix.T)\n",
    "        return pointcloud\n",
    "    else:\n",
    "        theta = np.pi * 2 * np.random.uniform()\n",
    "        rotation_matrix = np.array(\n",
    "            [\n",
    "                [np.cos(theta), -np.sin(theta), 0],\n",
    "                [np.sin(theta), np.cos(theta), 0],\n",
    "                [0, 0, 1]\n",
    "\n",
    "            ]\n",
    "        )\n",
    "        pointcloud = pointcloud.dot(rotation_matrix)  # random rotation z-axis\n",
    "        \n",
    "        return pointcloud"
   ]
  },
  {
   "cell_type": "code",
   "execution_count": 34,
   "id": "628efb6f",
   "metadata": {},
   "outputs": [],
   "source": [
    "class SingleTree_Pretrain(Dataset): \n",
    "    def __init__(self, num_points=1024):\n",
    "        super().__init__()\n",
    "        self.num_points = num_points\n",
    "        self.data_file = Path('/share/projects/erasmus/hansend/thesis/data/pretraining/ssl_tree_pretraining_dataset.h5')\n",
    "        \n",
    "        with h5py.File(self.data_file, 'r') as f:\n",
    "            self.len = f['data']['instance_xyz'].shape[0]\n",
    "\n",
    "    def __len__(self):\n",
    "        return self.len \n",
    "\n",
    "    def __getitem__(self, idx): \n",
    "        with h5py.File(self.data_file, 'r', swmr=True) as f: \n",
    "            instance_xyz = f['data']['instance_xyz'][idx] \n",
    "            instance_xyz = instance_xyz.reshape(-1, 3) # (N, 3) \n",
    "            instance_nheights = f['data']['instance_nheights'][idx]\n",
    "            \n",
    "            # FPS supsampling to num_points\n",
    "            if instance_xyz.shape[0] > self.num_points:\n",
    "                instance_idxs = fpsample.bucket_fps_kdline_sampling(instance_xyz, self.num_points, h=3)\n",
    "                instance_xyz = instance_xyz[instance_idxs]\n",
    "                instance_nheights = instance_nheights[instance_idxs]\n",
    "\n",
    "            # adding jittered points to num_points\n",
    "            elif instance_xyz.shape[0] < self.num_points: \n",
    "                point_diff = self.num_points - instance_xyz.shape[0]\n",
    "                idxs = np.random.choice(instance_xyz.shape[0], point_diff, replace=True)\n",
    "                add_points_xyz = instance_xyz[idxs]\n",
    "                jitter = np.clip(0.01 * np.random.randn(add_points_xyz.shape[0], add_points_xyz.shape[1]), -0.02, 0.02)\n",
    "                add_points_xyz += jitter\n",
    "                instance_xyz = np.concatenate((instance_xyz, add_points_xyz), axis=0)\n",
    "                instance_nheights = np.concatenate((instance_nheights, instance_nheights[idxs] + jitter[:, 2]), axis=0) # add jitter to nheights \n",
    "\n",
    "        # to implement augmentation pipeline\n",
    "\n",
    "        return instance_xyz, instance_nheights\n"
   ]
  },
  {
   "cell_type": "code",
   "execution_count": null,
   "id": "9c7e2580",
   "metadata": {},
   "outputs": [],
   "source": [
    "# possible pad collate_fn\n",
    "def pad_collate_fn(batch):\n",
    "    batch = [torch.tensor(b) for b in batch]\n",
    "    max_len = max(pc.shape[0] for pc in batch)\n",
    "    padded_b = []\n",
    "    mask_b = []\n",
    "    for pc in batch:\n",
    "        pad_len = max_len - pc.shape[0]\n",
    "        padded_pc = F.pad(pc, (0, 0, 0, pad_len), value=0.0)\n",
    "        padded_b.append(padded_pc)\n",
    "        # Mask: 1 for real points, 0 for padded\n",
    "        mask = torch.cat([torch.ones(pc.shape[0]), torch.zeros(pad_len)])\n",
    "        mask_b.append(mask)\n",
    "\n",
    "    return torch.stack(padded_b), torch.stack(mask_b) # padded batch, mask batch "
   ]
  },
  {
   "cell_type": "code",
   "execution_count": null,
   "id": "74f1b284",
   "metadata": {},
   "outputs": [],
   "source": [
    "# possible offset_collate_fn\n",
    "def offset_collate_fn(batch): \n",
    "    batch = [torch.tensor(b) for b in batch]\n",
    "    npoints = [pc.shape[0] for pc in batch]\n",
    "    offset = torch.tensor(npoints).cumsum(0) \n",
    "\n",
    "    batch = torch.cat(batch) \n",
    "\n",
    "    return batch, offset "
   ]
  },
  {
   "cell_type": "code",
   "execution_count": null,
   "id": "9a3e534c",
   "metadata": {},
   "outputs": [],
   "source": [
    "# possible batch sampling function for collate_fn\n",
    "def batch_sample(batch):\n",
    "    points, offsets = batch \n",
    "    B = batch[-1].shape[0]\n",
    "    lengths = offsets.clone().detach() \n",
    "    lengths[1:] = offsets[1:] - offsets[:-1] # calculate npoints per instance\n",
    "    lengths[0] = offsets[0] \n",
    "\n",
    "    pcs = torch.split(points, lengths.tolist())\n",
    "\n",
    "    return B, pcs"
   ]
  },
  {
   "cell_type": "code",
   "execution_count": 35,
   "id": "df0fd524",
   "metadata": {},
   "outputs": [],
   "source": [
    "ds = SingleTree_Pretrain(num_points=2048)\n",
    "dl = DataLoader(ds, batch_size=8, shuffle=False, num_workers=4)\n",
    "batch = next(iter(dl))"
   ]
  },
  {
   "cell_type": "code",
   "execution_count": 37,
   "id": "a643dc33",
   "metadata": {},
   "outputs": [
    {
     "name": "stdout",
     "output_type": "stream",
     "text": [
      "Batch 0: torch.Size([8, 2048, 3])\n",
      "Batch 1: torch.Size([8, 2048])\n"
     ]
    }
   ],
   "source": [
    "for i in range(len(batch)):\n",
    "    print(f\"Batch {i}: {batch[i].shape}\")"
   ]
  },
  {
   "cell_type": "code",
   "execution_count": null,
   "id": "2c755f5e",
   "metadata": {},
   "outputs": [],
   "source": [
    "# check instances viruatlly \n",
    "for i in range(batch.shape[0]): \n",
    "    instance = batch[i]\n",
    "    np.savetxt(f'../data/instance_{i}.txt', instance) "
   ]
  },
  {
   "cell_type": "markdown",
   "id": "0f34581e",
   "metadata": {},
   "source": [
    "## Axis aware patch masking "
   ]
  },
  {
   "cell_type": "code",
   "execution_count": 39,
   "id": "f0fdabcd",
   "metadata": {},
   "outputs": [
    {
     "name": "stdout",
     "output_type": "stream",
     "text": [
      "Num of patches: 128: Visible: 116, Masked: 12\n"
     ]
    }
   ],
   "source": [
    "# set masking and npoints setting \n",
    "num_points = 2048\n",
    "masking_ratio = 0.1\n",
    "patch_size = 16 \n",
    "\n",
    "num_patches = num_points // patch_size \n",
    "num_masked_patches = int(num_patches * masking_ratio) \n",
    "num_vis_patches = num_patches - num_masked_patches \n",
    "print(\n",
    "    f'Num of patches: {num_patches}: Visible: {num_vis_patches}, Masked: {num_masked_patches}'\n",
    ")"
   ]
  },
  {
   "cell_type": "code",
   "execution_count": 114,
   "id": "7add70f8",
   "metadata": {},
   "outputs": [],
   "source": [
    "pc = ds[2609]"
   ]
  },
  {
   "cell_type": "markdown",
   "id": "87f6b76a",
   "metadata": {},
   "source": []
  },
  {
   "cell_type": "code",
   "execution_count": 115,
   "id": "c1d9dbda",
   "metadata": {},
   "outputs": [],
   "source": [
    "pc = pc[0]"
   ]
  },
  {
   "cell_type": "code",
   "execution_count": 117,
   "id": "b2c14c84",
   "metadata": {},
   "outputs": [],
   "source": [
    "# generate random T \n",
    "if np.random.choice([True, False]): \n",
    "    t, axis = np.median(pc[:,0]), 'x'\n",
    "else: \n",
    "    t, axis = np.median(pc[:, 1]), 'y'"
   ]
  },
  {
   "cell_type": "code",
   "execution_count": 120,
   "id": "f9540ae9",
   "metadata": {},
   "outputs": [],
   "source": [
    "# to tensor for single instance check \n",
    "pc = torch.tensor(pc)"
   ]
  },
  {
   "cell_type": "code",
   "execution_count": 121,
   "id": "10aae9b4",
   "metadata": {},
   "outputs": [],
   "source": [
    "# subset the point cloud\n",
    "if axis == 'x':\n",
    "    pc_vis = pc[pc[:, 0] > t] \n",
    "    pc_masked = pc[pc[:, 0] <= t]\n",
    "elif axis == 'y': \n",
    "    pc_vis = pc[pc[:, 1] <= t] \n",
    "    pc_masked = pc[pc[:, 1] > t]"
   ]
  },
  {
   "cell_type": "code",
   "execution_count": 122,
   "id": "b14d2e64",
   "metadata": {},
   "outputs": [],
   "source": [
    "# find patch centers in the subsets \n",
    "vis_centers = furthest_point_sample(pc_vis.cuda().unsqueeze(0), num_vis_patches).cpu().squeeze(0)\n",
    "masked_centers = furthest_point_sample(pc_masked.cuda().unsqueeze(0), num_masked_patches).cpu().squeeze(0)\n",
    "\n",
    "# select center points \n",
    "vis_center_points = pc_vis[vis_centers]\n",
    "masked_center_points = pc_masked[masked_centers]\n"
   ]
  },
  {
   "cell_type": "code",
   "execution_count": null,
   "id": "fa618ed5",
   "metadata": {},
   "outputs": [],
   "source": []
  },
  {
   "cell_type": "code",
   "execution_count": 53,
   "id": "4ddb1766",
   "metadata": {},
   "outputs": [],
   "source": [
    "def get_kNN_patch_idxs(xyz, center_xyz, k):\n",
    "    dists = torch.cdist(xyz, center_xyz)\n",
    "\n",
    "    _, knn_idxs = torch.topk(dists, k, largest=False, dim=0) # shape: (N points, 3)\n",
    "\n",
    "    return knn_idxs"
   ]
  },
  {
   "cell_type": "code",
   "execution_count": 123,
   "id": "8beb64fe",
   "metadata": {},
   "outputs": [],
   "source": [
    "vis_patch_idxs = get_kNN_patch_idxs(pc_vis, vis_center_points, k=patch_size)\n",
    "masked_patch_idxs = get_kNN_patch_idxs(pc_masked, masked_center_points, k=patch_size)"
   ]
  },
  {
   "cell_type": "code",
   "execution_count": 124,
   "id": "8ea4caf9",
   "metadata": {},
   "outputs": [],
   "source": [
    "vis_patches = [pc_vis[vis_patch_idxs[:, i]] for i in range(vis_patch_idxs.shape[1])]\n",
    "masked_patches = [pc_masked[masked_patch_idxs[:, i]] for i in range(masked_patch_idxs.shape[1])]"
   ]
  },
  {
   "cell_type": "code",
   "execution_count": 125,
   "id": "88ad519a",
   "metadata": {},
   "outputs": [],
   "source": [
    "vis_patches_tensor = torch.stack(vis_patches, dim=0)\n",
    "masked_patches_tensor = torch.stack(masked_patches, dim=0)\n"
   ]
  },
  {
   "cell_type": "code",
   "execution_count": 58,
   "id": "421b3c5f",
   "metadata": {},
   "outputs": [
    {
     "data": {
      "text/plain": [
       "torch.Size([12, 16, 3])"
      ]
     },
     "execution_count": 58,
     "metadata": {},
     "output_type": "execute_result"
    }
   ],
   "source": [
    "# mask_pos, vis_pos \n",
    "vis_patches_tensor.shape\n",
    "masked_patches_tensor.shape"
   ]
  },
  {
   "cell_type": "code",
   "execution_count": 126,
   "id": "4f201ec4",
   "metadata": {},
   "outputs": [
    {
     "data": {
      "text/plain": [
       "torch.Size([12, 3])"
      ]
     },
     "execution_count": 126,
     "metadata": {},
     "output_type": "execute_result"
    }
   ],
   "source": [
    "# mask_center_pos, vis_center_pos \n",
    "vis_center_points.shape \n",
    "masked_center_points.shape"
   ]
  },
  {
   "cell_type": "code",
   "execution_count": 127,
   "id": "60b0416a",
   "metadata": {},
   "outputs": [],
   "source": [
    "# vis_patch_idx, masked_patch_idx\n",
    "vis_patch_idx = torch.arange(vis_patches_tensor.shape[0])\n",
    "masked_patch_idx = torch.arange(masked_patches_tensor.shape[0])\n",
    "num_patches = vis_patches_tensor.shape[0] + masked_patches_tensor.shape[0]\n",
    "shuffle_idx = torch.stack([torch.randperm(num_patches)])"
   ]
  },
  {
   "cell_type": "code",
   "execution_count": null,
   "id": "6ff1165b",
   "metadata": {},
   "outputs": [],
   "source": []
  },
  {
   "cell_type": "code",
   "execution_count": 128,
   "id": "919bb7bd",
   "metadata": {},
   "outputs": [],
   "source": [
    "\n",
    "points_vis = vis_patches_tensor.reshape(-1, 3)\n",
    "points_masked = masked_patches_tensor.reshape(-1, 3)\n",
    "patch_labels_vis = np.repeat(np.arange(vis_patches_tensor.shape[0]), vis_patches_tensor.shape[1])\n",
    "patch_labels_masked = np.repeat(np.arange(masked_patches_tensor.shape[0]), masked_patches_tensor.shape[1])\n",
    "\n",
    "# Combine all points and labels\n",
    "all_points = np.vstack([points_vis.numpy(), points_masked.numpy()])\n",
    "all_patch_labels = np.concatenate([patch_labels_vis, patch_labels_masked])\n",
    "all_patch_mask_labels = np.concatenate([patch_mask_label_vis, patch_mask_label])\n",
    "\n",
    "# Optionally, you can also concatenate center points and their labels if needed\n",
    "\n",
    "data_to_save = np.column_stack([all_points, all_patch_labels, all_patch_mask_labels])\n",
    "\n",
    "np.savetxt('../data/masked_instance.txt', data_to_save)\n",
    "np.savetxt('../data/mask_instance.txt', masked_patches_tensor.reshape(-1, 3).numpy())\n",
    "np.savetxt('../data/vis_instance.txt', vis_patches_tensor.reshape(-1, 3).numpy())\n",
    "np.savetxt('../data/instance.txt', pc) "
   ]
  },
  {
   "cell_type": "markdown",
   "id": "18816896",
   "metadata": {},
   "source": [
    "## Custom Masking Logic as function "
   ]
  },
  {
   "cell_type": "code",
   "execution_count": 159,
   "id": "ee6bece0",
   "metadata": {},
   "outputs": [],
   "source": [
    "def center_split_masking(batch, masking_ratio=0.2, patch_size=16): \n",
    "    B, N, C = batch.shape \n",
    "\n",
    "    # calculate number of patches\n",
    "    num_patches = num_points // patch_size \n",
    "    num_masked_patches = int(num_patches * masking_ratio) \n",
    "    num_vis_patches = num_patches - num_masked_patches\n",
    "\n",
    "    vis_pos = []\n",
    "    mask_pos = [] \n",
    "    mask_center_pos = [] \n",
    "    vis_center_pos = [] \n",
    "    # generate patch_idx and shuffle_idx later \n",
    "\n",
    "    for i in range(B): \n",
    "        pc = batch[i]\n",
    "\n",
    "        # generate random T \n",
    "        if np.random.choice([True, False]): \n",
    "            t, axis = np.median(pc[:,0]), 'x'\n",
    "        else: \n",
    "            t, axis = np.median(pc[:, 1]), 'y'\n",
    "        \n",
    "        # subset the point cloud\n",
    "        if axis == 'x':\n",
    "            pc_vis = pc[pc[:, 0] > t] \n",
    "            pc_masked = pc[pc[:, 0] <= t]\n",
    "        elif axis == 'y': \n",
    "            pc_vis = pc[pc[:, 1] <= t] \n",
    "            pc_masked = pc[pc[:, 1] > t]\n",
    "\n",
    "        # find patch centers in the subsets \n",
    "        vis_centers = furthest_point_sample(pc_vis.cuda().unsqueeze(0), num_vis_patches).cpu().squeeze(0)\n",
    "        masked_centers = furthest_point_sample(pc_masked.cuda().unsqueeze(0), num_masked_patches).cpu().squeeze(0)\n",
    "\n",
    "        # select center points \n",
    "        vis_center_points = pc_vis[vis_centers]\n",
    "        masked_center_points = pc_masked[masked_centers]\n",
    "\n",
    "        # get patch idxs\n",
    "        vis_patch_idxs = get_kNN_patch_idxs(pc_vis, vis_center_points, k=patch_size)\n",
    "        masked_patch_idxs = get_kNN_patch_idxs(pc_masked, masked_center_points, k=patch_size)\n",
    "\n",
    "        # get patches \n",
    "        vis_patches = [pc_vis[vis_patch_idxs[:, i]] for i in range(vis_patch_idxs.shape[1])]\n",
    "        masked_patches = [pc_masked[masked_patch_idxs[:, i]] for i in range(masked_patch_idxs.shape[1])]\n",
    "\n",
    "        vis_patches_tensor = torch.stack(vis_patches, dim=0)\n",
    "        masked_patches_tensor = torch.stack(masked_patches, dim=0)\n",
    "\n",
    "        vis_pos.append(vis_patches_tensor)\n",
    "        vis_center_pos.append(vis_center_points)\n",
    "        mask_pos.append(masked_patches_tensor)\n",
    "        mask_center_pos.append(masked_center_points)\n",
    "\n",
    "    vis_pos = torch.stack(vis_pos, dim=0)\n",
    "    vis_center_pos = torch.stack(vis_center_pos, dim=0)\n",
    "    mask_pos = torch.stack(mask_pos, dim=0)\n",
    "    mask_center_pos = torch.stack(mask_center_pos, dim=0)\n",
    "\n",
    "    idx_all = torch.rand(num_patches).argsort()\n",
    "    vis_patch_idx = idx_all[:num_vis_patches]\n",
    "    mask_patch_idx = idx_all[num_vis_patches:]\n",
    "\n",
    "    shuffle_idx = torch.cat((vis_patch_idx, mask_patch_idx), dim=0)\n",
    "\n",
    "    return vis_pos, mask_pos, vis_center_pos, mask_center_pos, vis_patch_idx, mask_patch_idx, shuffle_idx"
   ]
  },
  {
   "cell_type": "code",
   "execution_count": 163,
   "id": "9030654e",
   "metadata": {},
   "outputs": [],
   "source": [
    "masked_batch = center_split_masking(batch[0])"
   ]
  },
  {
   "cell_type": "code",
   "execution_count": 181,
   "id": "b0a1a8d5",
   "metadata": {},
   "outputs": [
    {
     "name": "stdout",
     "output_type": "stream",
     "text": [
      "83.1 ms ± 10.2 ms per loop (mean ± std. dev. of 7 runs, 10 loops each)\n"
     ]
    }
   ],
   "source": [
    "%%timeit \n",
    "masked_batch = center_split_masking(batch[0])"
   ]
  },
  {
   "cell_type": "code",
   "execution_count": null,
   "id": "b3b9253a",
   "metadata": {},
   "outputs": [],
   "source": []
  }
 ],
 "metadata": {
  "kernelspec": {
   "display_name": "Python 3",
   "language": "python",
   "name": "python3"
  },
  "language_info": {
   "codemirror_mode": {
    "name": "ipython",
    "version": 3
   },
   "file_extension": ".py",
   "mimetype": "text/x-python",
   "name": "python",
   "nbconvert_exporter": "python",
   "pygments_lexer": "ipython3",
   "version": "3.10.10"
  }
 },
 "nbformat": 4,
 "nbformat_minor": 5
}
