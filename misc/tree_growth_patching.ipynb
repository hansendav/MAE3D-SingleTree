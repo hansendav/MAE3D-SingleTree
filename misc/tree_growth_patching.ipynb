{
 "cells": [
  {
   "cell_type": "markdown",
   "id": "4128fa84",
   "metadata": {},
   "source": [
    "# Curriculum based positional patching"
   ]
  },
  {
   "cell_type": "code",
   "execution_count": 1,
   "id": "9db49a00",
   "metadata": {},
   "outputs": [],
   "source": [
    "import numpy as np \n",
    "import torch \n",
    "import torch.nn as nn\n",
    "import torch.nn.functional as F\n",
    "\n",
    "import sys \n",
    "sys.path.append('../')\n",
    "\n",
    "from data_yours import ALS_50K\n",
    "\n",
    "from torch_kmeans import KMeans\n",
    "\n",
    "from torch.utils.data import DataLoader"
   ]
  },
  {
   "cell_type": "code",
   "execution_count": 2,
   "id": "6e42b934",
   "metadata": {},
   "outputs": [],
   "source": [
    "device = torch.device('cuda' if torch.cuda.is_available() else 'cpu')"
   ]
  },
  {
   "cell_type": "markdown",
   "id": "a31bcd24",
   "metadata": {},
   "source": [
    "## Preparation example data "
   ]
  },
  {
   "cell_type": "code",
   "execution_count": 20,
   "id": "290251db",
   "metadata": {},
   "outputs": [],
   "source": [
    "ds = ALS_50K(num_points=2048)\n",
    "sample = ds[25542]\n",
    "\n",
    "sample = torch.tensor(sample[0]).to(device).unsqueeze(0)\n",
    "\n",
    "dl = DataLoader(ds, batch_size=8, shuffle=True)\n",
    "batch = next(iter(dl))[0]"
   ]
  },
  {
   "cell_type": "code",
   "execution_count": 4,
   "id": "d1790687",
   "metadata": {},
   "outputs": [],
   "source": [
    "def get_cluster_points(pc, c_idx, k): \n",
    "    \"\"\"Get cluster points, handling empty clusters\"\"\"\n",
    "    clusters = [] \n",
    "    for i in range(k):  # Use k instead of c_idx.max() + 1\n",
    "        cluster_mask = (c_idx == i)\n",
    "        cluster_points = pc[cluster_mask]\n",
    "        clusters.append(cluster_points)  # Even if empty, add empty tensor\n",
    "    return clusters"
   ]
  },
  {
   "cell_type": "code",
   "execution_count": 5,
   "id": "6323fb67",
   "metadata": {},
   "outputs": [],
   "source": [
    "def get_sample_clusters(pc, c_idx, c_centroids, k):\n",
    "    clusters = get_cluster_points(pc, c_idx, k)\n",
    "\n",
    "    clusters_dict = {\n",
    "        i: { \n",
    "            'center': c_centroids[i, :],\n",
    "            'points': clusters[i]\n",
    "        } for i in range(c_centroids.shape[0]) \n",
    "    }\n",
    "\n",
    "    return clusters_dict"
   ]
  },
  {
   "cell_type": "code",
   "execution_count": 8,
   "id": "41e24802",
   "metadata": {},
   "outputs": [],
   "source": [
    "# calculate euclidian distance for each centroid to its perpendicular point on the stem dummy \n",
    "def compute_xy_distance_to_stem_center(centroids, stem_center):\n",
    "    \"\"\"\n",
    "    For each centroid, compute the distance in the XY plane to the stem center,\n",
    "    but at the same Z as the centroid.\n",
    "\n",
    "    centroids: (BS, C, 3) tensor of centroids \n",
    "    stem_center: (BS, 3) tensor of stem centers\n",
    "    \"\"\"\n",
    "    # Use stem_center's x and y, centroid's z\n",
    "    stem_xy = stem_center[:, :2].unsqueeze(1) # (BS, 1, 2)\n",
    "    centroid_xy = centroids[:,:,:2]  # (BS, C, 2)\n",
    "    # Distance in XY plane\n",
    "    distances = torch.norm(centroid_xy - stem_xy, dim=2)\n",
    "    return distances"
   ]
  },
  {
   "cell_type": "code",
   "execution_count": 9,
   "id": "7f1dcfee",
   "metadata": {},
   "outputs": [],
   "source": [
    "def get_region_mask(z_height, xy_distance_to_stem, z_region='low', xy_region='high'):\n",
    "    \"\"\"\n",
    "    Get region mask based on z height and xy distance regions.\n",
    "    \n",
    "    Args:\n",
    "        z_height: tensor of z coordinates (BS, C)\n",
    "        xy_distance_to_stem: tensor of xy distances to stem (BS, C)\n",
    "        z_region: 'low', 'middle', or 'high'\n",
    "        xy_region: 'low', 'middle', or 'high'\n",
    "    \n",
    "    Returns:\n",
    "        region_mask: boolean tensor indicating selected region (BS, C)\n",
    "    \"\"\"\n",
    "    # Handle batch dimensions\n",
    "    z_min = z_height.min(dim=1, keepdim=True)[0]  # (BS, 1)\n",
    "    z_max = z_height.max(dim=1, keepdim=True)[0]  # (BS, 1)\n",
    "    z_range = z_max - z_min\n",
    "    \n",
    "    # Define z regions\n",
    "    if z_region == 'low':\n",
    "        z_threshold = z_min + 0.33 * z_range\n",
    "        z_region_mask = (z_height < z_threshold)\n",
    "    elif z_region == 'middle':\n",
    "        z_low_threshold = z_min + 0.33 * z_range\n",
    "        z_high_threshold = z_min + 0.67 * z_range\n",
    "        z_region_mask = (z_height >= z_low_threshold) & (z_height <= z_high_threshold)\n",
    "    elif z_region == 'high':\n",
    "        z_threshold = z_min + 0.67 * z_range\n",
    "        z_region_mask = (z_height > z_threshold)\n",
    "    \n",
    "    # Define xy regions - compute quantiles per batch\n",
    "    quantile_33 = torch.quantile(xy_distance_to_stem, 0.33, dim=1, keepdim=True)  # (BS, 1)\n",
    "    quantile_67 = torch.quantile(xy_distance_to_stem, 0.67, dim=1, keepdim=True)  # (BS, 1)\n",
    "    \n",
    "    if xy_region == 'low':\n",
    "        xy_region_mask = (xy_distance_to_stem < quantile_33)\n",
    "    elif xy_region == 'middle':\n",
    "        xy_region_mask = (xy_distance_to_stem >= quantile_33) & (xy_distance_to_stem <= quantile_67)\n",
    "    elif xy_region == 'high':\n",
    "        xy_region_mask = (xy_distance_to_stem > quantile_67)\n",
    "    \n",
    "    # Combine masks\n",
    "    region_mask = z_region_mask & xy_region_mask\n",
    "    return region_mask"
   ]
  },
  {
   "cell_type": "code",
   "execution_count": 10,
   "id": "82a1bccf",
   "metadata": {},
   "outputs": [],
   "source": [
    "def select_clusters_with_region_mask(region_mask, centroids, num_clusters):\n",
    "    \"\"\"\n",
    "    Select clusters with region mask, handling batches.\n",
    "    \n",
    "    Args:\n",
    "        region_mask: (BS, C) boolean tensor\n",
    "        num_clusters: int, number of clusters to select\n",
    "        centroids: (BS, C, 3) tensor of centroids\n",
    "    \n",
    "    Returns:\n",
    "        mask: (BS, C) boolean tensor indicating selected clusters\n",
    "    \"\"\"\n",
    "    batch_size, num_total_clusters = region_mask.shape\n",
    "    mask = torch.zeros_like(region_mask, dtype=torch.bool)\n",
    "    \n",
    "    for b in range(batch_size):\n",
    "        region_indices = torch.where(region_mask[b])[0]\n",
    "        \n",
    "        if len(region_indices) >= num_clusters:\n",
    "            selected = region_indices[:num_clusters]\n",
    "        else:\n",
    "            # Fill from outside region, sorted by distance to mean of region_indices\n",
    "            outside_indices = torch.where(~region_mask[b])[0]\n",
    "            \n",
    "            # Compute mean of region centroids (or use batch mean if region_indices is empty)\n",
    "            if len(region_indices) > 0:\n",
    "                region_mean = centroids[b, region_indices].mean(dim=0, keepdim=True)\n",
    "            else:\n",
    "                region_mean = centroids[b].mean(dim=0, keepdim=True)\n",
    "            \n",
    "            # Compute distances from outside centroids to region_mean\n",
    "            outside_centroids = centroids[b, outside_indices]\n",
    "            dists = torch.norm(outside_centroids - region_mean, dim=1)\n",
    "            sorted_outside = outside_indices[torch.argsort(dists)]\n",
    "            needed = num_clusters - len(region_indices)\n",
    "            selected = torch.cat([region_indices, sorted_outside[:needed]])\n",
    "        \n",
    "        mask[b, selected] = True\n",
    "    \n",
    "    return mask"
   ]
  },
  {
   "cell_type": "code",
   "execution_count": 12,
   "id": "902620fb",
   "metadata": {},
   "outputs": [],
   "source": [
    "def get_cluster_tensor(points_with_clusters, mask, num_points=16):\n",
    "    \"\"\"\n",
    "    Returns a tensor of shape [BS, Num_clusters, num_points, 3] with up/downsampling.\n",
    "    - points_with_clusters: [BS, N, D] (last column is cluster index)\n",
    "    - mask: [BS, C] boolean (clusters to select)\n",
    "    - num_points: int, number of points per cluster\n",
    "    \"\"\"\n",
    "    BS, N, D = points_with_clusters.shape\n",
    "    C = mask.shape[1]\n",
    "    cluster_labels = points_with_clusters[..., -1].long()  # [BS, N]\n",
    "    selected_cluster_indices = [torch.where(mask[b])[0] for b in range(BS)]\n",
    "    num_selected = max(len(idx) for idx in selected_cluster_indices)\n",
    "    # Prepare output tensor\n",
    "    out = torch.zeros(BS, num_selected, num_points, D-1, device=points_with_clusters.device)\n",
    "    for b in range(BS):\n",
    "        idxs = selected_cluster_indices[b]\n",
    "        for i, cluster_id in enumerate(idxs):\n",
    "            pts = points_with_clusters[b][cluster_labels[b] == cluster_id][:, :D-1]  # exclude cluster index\n",
    "            n = pts.shape[0]\n",
    "            if n > num_points:\n",
    "                sel = torch.randperm(n)[:num_points]\n",
    "                out[b, i] = pts[sel]\n",
    "            elif n < num_points:\n",
    "                # Upsample with replacement\n",
    "                sel = torch.cat([torch.arange(n), torch.randint(0, n, (num_points-n,))])\n",
    "                out[b, i] = pts[sel]\n",
    "    return out  # shape: [BS, Num_clusters, num_points, 3]"
   ]
  },
  {
   "cell_type": "code",
   "execution_count": 13,
   "id": "2d4f4415",
   "metadata": {},
   "outputs": [],
   "source": [
    "def get_centroids_from_mask(mask, centroids): \n",
    "    BS, C = mask.shape\n",
    "    masked_centroids = torch.where(mask)[1].reshape(BS, -1) # get indices \n",
    "    return masked_centroids"
   ]
  },
  {
   "cell_type": "code",
   "execution_count": 18,
   "id": "8c6093e2",
   "metadata": {},
   "outputs": [],
   "source": [
    "def region_based_patching(\n",
    "    batch, \n",
    "    patch_size=16, \n",
    "    mask_ratio=0.1, \n",
    "    z_region='low', \n",
    "    xy_region='high', \n",
    "    device=None\n",
    "):\n",
    "    if device is None:\n",
    "        device = batch.device\n",
    "\n",
    "    num_clusters = batch.shape[1] // patch_size \n",
    "    num_masked = int(num_clusters * mask_ratio)  # Number of clusters to mask\n",
    "    num_vis = num_clusters - num_masked  # Number of visible clusters\n",
    "    \n",
    "    # KMeans clustering\n",
    "    kmeans = KMeans(init_method='k-means++', n_clusters=num_clusters, device=device)\n",
    "    clusters = kmeans(batch)\n",
    "    \n",
    "    c_idx, c_centroids = clusters.labels, clusters.centers\n",
    "    \n",
    "    # Get points with clusters\n",
    "    points_with_clusters = torch.cat([batch, c_idx.unsqueeze(-1).float()], dim=-1)\n",
    "    \n",
    "    # Compute distances and region masks\n",
    "    stem_centers = batch[torch.arange(batch.shape[0]), batch[:, :, -1].argmax(dim=1)]\n",
    "    xy_distance_to_stem = compute_xy_distance_to_stem_center(c_centroids, stem_centers)\n",
    "    c_heights = c_centroids[:, :, 2]\n",
    "    \n",
    "    region_mask = get_region_mask(c_heights, xy_distance_to_stem, z_region=z_region, xy_region=xy_region)\n",
    "    \n",
    "    mask = select_clusters_with_region_mask(region_mask, c_centroids, num_masked)\n",
    "    \n",
    "    mask_pos = get_cluster_tensor(points_with_clusters, mask, num_points=patch_size)\n",
    "    \n",
    "    vis_pos = get_cluster_tensor(points_with_clusters, ~mask, num_points=patch_size)\n",
    "    \n",
    "    masked_centroids_idx = get_centroids_from_mask(mask, c_centroids)\n",
    "    vis_centroids_idx = get_centroids_from_mask(~mask, c_centroids)\n",
    "    \n",
    "    mask_center_pos = c_centroids[torch.arange(c_centroids.shape[0])[:, None], masked_centroids_idx]\n",
    "    vis_center_pos = c_centroids[torch.arange(c_centroids.shape[0])[:, None], vis_centroids_idx]\n",
    "\n",
    "    patch_idx = torch.arange(num_clusters).unsqueeze(0).repeat(3, 1)\n",
    "    mask_idx = patch_idx[:, :num_masked]\n",
    "    vis_idx = patch_idx[:, num_masked:]\n",
    "\n",
    "    shuffle_idx = torch.cat([mask_idx, vis_idx], dim=1)\n",
    "    \n",
    "    return mask_pos, vis_pos, mask_center_pos, vis_center_pos, mask_idx, vis_idx, shuffle_idx\n"
   ]
  },
  {
   "cell_type": "code",
   "execution_count": 21,
   "id": "85b233bc",
   "metadata": {},
   "outputs": [
    {
     "name": "stdout",
     "output_type": "stream",
     "text": [
      "Full batch converged at iteration 15/100 with center shifts = tensor([0.0000e+00, 1.0117e-05, 0.0000e+00, 0.0000e+00, 0.0000e+00, 0.0000e+00,\n",
      "        0.0000e+00, 2.2254e-05]).\n"
     ]
    }
   ],
   "source": [
    "x = region_based_patching(batch, patch_size=16, mask_ratio=0.1, z_region='middle', xy_region='middle', device=device)"
   ]
  },
  {
   "cell_type": "code",
   "execution_count": null,
   "id": "fcfb0c33",
   "metadata": {},
   "outputs": [],
   "source": []
  }
 ],
 "metadata": {
  "kernelspec": {
   "display_name": "mae3d",
   "language": "python",
   "name": "python3"
  },
  "language_info": {
   "codemirror_mode": {
    "name": "ipython",
    "version": 3
   },
   "file_extension": ".py",
   "mimetype": "text/x-python",
   "name": "python",
   "nbconvert_exporter": "python",
   "pygments_lexer": "ipython3",
   "version": "3.10.10"
  }
 },
 "nbformat": 4,
 "nbformat_minor": 5
}
