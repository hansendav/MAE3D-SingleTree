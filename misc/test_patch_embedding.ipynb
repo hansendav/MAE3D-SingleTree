{
 "cells": [
  {
   "cell_type": "code",
   "execution_count": 22,
   "id": "4b280e8f",
   "metadata": {},
   "outputs": [],
   "source": [
    "import torch\n",
    "import torch.nn as nn\n",
    "from torch.utils.data import DataLoader\n",
    "\n",
    "import numpy as np\n",
    "from tqdm import tqdm\n",
    "\n",
    "import sys \n",
    "sys.path.append('..')\n",
    "\n",
    "from data_yours import FORAGE, ALS_50K\n",
    "from model_yours import MAE3D, PatchEmbed_DGCNN\n",
    "\n",
    "from pathlib import Path\n",
    "import pandas as pd "
   ]
  },
  {
   "cell_type": "code",
   "execution_count": 4,
   "id": "8e8bac36",
   "metadata": {},
   "outputs": [
    {
     "name": "stderr",
     "output_type": "stream",
     "text": [
      "/tmp/ipykernel_123966/3061211914.py:9: UserWarning: \n",
      "The version_base parameter is not specified.\n",
      "Please specify a compatability version level, or None.\n",
      "Will assume defaults for version 1.1\n",
      "  initialize(config_path=\"../config/experiments\")\n"
     ]
    }
   ],
   "source": [
    "# get hydra config \n",
    "from hydra import compose, initialize\n",
    "from hydra.core.global_hydra import GlobalHydra\n",
    "from omegaconf import OmegaConf\n",
    "\n",
    "if GlobalHydra.instance().is_initialized():\n",
    "\tGlobalHydra.instance().clear()\n",
    "\t\n",
    "initialize(config_path=\"../config/experiments\")\n",
    "cfg = compose(config_name=\"/BASELINE_FORSPECIES\") # SET CONFIG HERE\n",
    "OmegaConf.set_struct(cfg, False)"
   ]
  },
  {
   "cell_type": "code",
   "execution_count": 12,
   "id": "5ac1c272",
   "metadata": {},
   "outputs": [],
   "source": [
    "device = torch.device('cpu')"
   ]
  },
  {
   "cell_type": "code",
   "execution_count": 16,
   "id": "3539d2ca",
   "metadata": {},
   "outputs": [],
   "source": [
    "dgcnn = PatchEmbed_DGCNN(\n",
    "    k=20, \n",
    "    output_channels=512\n",
    ").cuda()"
   ]
  },
  {
   "cell_type": "code",
   "execution_count": 19,
   "id": "37fd5499",
   "metadata": {},
   "outputs": [],
   "source": [
    "tensor = torch.rand(1, 3, 1028).cuda()"
   ]
  },
  {
   "cell_type": "code",
   "execution_count": 20,
   "id": "90368402",
   "metadata": {},
   "outputs": [
    {
     "data": {
      "text/plain": [
       "tensor([[[ 1.3610e-01,  8.6316e-01, -1.0301e-01,  ...,  2.4199e+00,\n",
       "          -3.5060e-01, -3.6402e-01],\n",
       "         [ 8.9299e-01,  6.0541e-01,  1.8789e-03,  ...,  1.5062e+00,\n",
       "           6.4045e-01, -1.6186e-01],\n",
       "         [ 2.9796e+00, -7.3184e-02, -1.1685e-01,  ...,  2.4554e+00,\n",
       "           2.5535e-01, -3.4236e-01],\n",
       "         ...,\n",
       "         [-2.1923e-01,  3.0160e-01,  1.0291e+00,  ...,  2.1515e-01,\n",
       "          -5.8812e-01, -4.0880e-01],\n",
       "         [-4.1450e-02,  1.0064e+00,  8.0467e-02,  ..., -1.5283e-01,\n",
       "          -2.8948e-01, -2.6712e-01],\n",
       "         [ 3.0247e+00,  5.5763e-01, -9.0539e-02,  ...,  1.8869e+00,\n",
       "           1.1257e+00, -3.7108e-02]]], device='cuda:0',\n",
       "       grad_fn=<LeakyReluBackward0>)"
      ]
     },
     "execution_count": 20,
     "metadata": {},
     "output_type": "execute_result"
    }
   ],
   "source": [
    "dgcnn(tensor)"
   ]
  },
  {
   "cell_type": "markdown",
   "id": "49fcd5fd",
   "metadata": {},
   "source": [
    "## Implementation of paper \n",
    "https://www.researchgate.net/profile/Gunho-Sohn/publication/277383984_Tree_genera_classification_with_geometric_features_from_high-density_airborne_LiDAR/links/56356c7808aeb786b702c58e/Tree-genera-classification-with-geometric-features-from-high-density-airborne-LiDAR.pdf\n"
   ]
  },
  {
   "cell_type": "code",
   "execution_count": 23,
   "id": "0a27b9f0",
   "metadata": {},
   "outputs": [],
   "source": [
    "ds = ALS_50K()"
   ]
  },
  {
   "cell_type": "code",
   "execution_count": 24,
   "id": "7fe318e5",
   "metadata": {},
   "outputs": [],
   "source": [
    "tree = ds[0][0]"
   ]
  },
  {
   "cell_type": "code",
   "execution_count": 26,
   "id": "1dbd845a",
   "metadata": {},
   "outputs": [
    {
     "data": {
      "text/plain": [
       "(2048, 3)"
      ]
     },
     "execution_count": 26,
     "metadata": {},
     "output_type": "execute_result"
    }
   ],
   "source": [
    "tree.shape"
   ]
  },
  {
   "cell_type": "code",
   "execution_count": 53,
   "id": "859abc09",
   "metadata": {},
   "outputs": [],
   "source": [
    "from sklearn.cluster import KMeans, DBSCAN"
   ]
  },
  {
   "cell_type": "code",
   "execution_count": 30,
   "id": "c1f40d01",
   "metadata": {},
   "outputs": [],
   "source": [
    "def initial_kmeans(points, k=100):\n",
    "    # points: (N, 3) numpy array or tensor\n",
    "    if isinstance(points, torch.Tensor):\n",
    "        points_np = points.cpu().numpy()\n",
    "    else:\n",
    "        points_np = points\n",
    "    kmeans = KMeans(n_clusters=k).fit(points_np)\n",
    "    labels = kmeans.labels_\n",
    "    return labels"
   ]
  },
  {
   "cell_type": "code",
   "execution_count": 54,
   "id": "0b2f4293",
   "metadata": {},
   "outputs": [],
   "source": [
    "def intial_dbscan(points, eps=0.2, min_samples=5):\n",
    "    # points: (N, 3) numpy array or tensor\n",
    "    if isinstance(points, torch.Tensor):\n",
    "        points_np = points.cpu().numpy()\n",
    "    else:\n",
    "        points_np = points\n",
    "    dbscan = DBSCAN(eps=eps, min_samples=min_samples).fit(points_np)\n",
    "    labels = dbscan.labels_\n",
    "    return labels"
   ]
  },
  {
   "cell_type": "code",
   "execution_count": 58,
   "id": "cb6055c6",
   "metadata": {},
   "outputs": [],
   "source": [
    "clusters_dbscan = intial_dbscan(tree, eps=0.01, min_samples=5)\n",
    "tree_with_dbscan = np.concatenate([tree, clusters_dbscan[:, None]], axis=1)\n",
    "np.savetxt('tree_with_dbscan.txt', tree_with_dbscan)"
   ]
  },
  {
   "cell_type": "code",
   "execution_count": 35,
   "id": "4a55eae9",
   "metadata": {},
   "outputs": [],
   "source": [
    "clusters = initial_kmeans(tree, k=100)\n",
    "tree_with_clusters = np.concatenate([tree, clusters[:, None]], axis=1)"
   ]
  },
  {
   "cell_type": "code",
   "execution_count": 39,
   "id": "a5a502fe",
   "metadata": {},
   "outputs": [],
   "source": [
    "np.savetxt('inital_clusters.txt', tree_with_clusters, delimiter=',', fmt='%.6f')"
   ]
  },
  {
   "cell_type": "code",
   "execution_count": 48,
   "id": "fb5ef357",
   "metadata": {},
   "outputs": [],
   "source": [
    "clusters = [tree_with_clusters[tree_with_clusters[:, -1] == i, :-1] for i in range(100)]"
   ]
  },
  {
   "cell_type": "code",
   "execution_count": 49,
   "id": "e310ed52",
   "metadata": {},
   "outputs": [],
   "source": [
    "centroids = [np.mean(cluster, axis=0) for cluster in clusters]"
   ]
  },
  {
   "cell_type": "code",
   "execution_count": 51,
   "id": "5beb5c76",
   "metadata": {},
   "outputs": [
    {
     "data": {
      "text/plain": [
       "(100, 100)"
      ]
     },
     "execution_count": 51,
     "metadata": {},
     "output_type": "execute_result"
    }
   ],
   "source": [
    "from scipy.spatial.distance import cdist\n",
    "\n",
    "# Calculate pairwise distances between all centroids\n",
    "centroids_array = np.stack(centroids)  # shape (100, 3)\n",
    "pairwise_distances = cdist(centroids_array, centroids_array)  # shape (100, 100)\n",
    "pairwise_distances.shape"
   ]
  },
  {
   "cell_type": "code",
   "execution_count": null,
   "id": "7501b80a",
   "metadata": {},
   "outputs": [],
   "source": []
  }
 ],
 "metadata": {
  "kernelspec": {
   "display_name": "mae3d",
   "language": "python",
   "name": "python3"
  },
  "language_info": {
   "codemirror_mode": {
    "name": "ipython",
    "version": 3
   },
   "file_extension": ".py",
   "mimetype": "text/x-python",
   "name": "python",
   "nbconvert_exporter": "python",
   "pygments_lexer": "ipython3",
   "version": "3.10.10"
  }
 },
 "nbformat": 4,
 "nbformat_minor": 5
}
